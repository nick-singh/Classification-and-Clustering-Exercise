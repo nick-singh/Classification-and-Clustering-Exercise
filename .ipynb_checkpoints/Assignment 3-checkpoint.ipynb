{
 "cells": [
  {
   "cell_type": "code",
   "execution_count": 92,
   "metadata": {},
   "outputs": [],
   "source": [
    "import pandas as pd\n",
    "import numpy as np\n",
    "from scipy import stats\n",
    "from sklearn.preprocessing import StandardScaler\n",
    "from sklearn.decomposition import PCA\n",
    "import matplotlib.pyplot as plt\n",
    "from sklearn.cross_validation import train_test_split\n",
    "from sklearn.linear_model import LogisticRegression\n",
    "# loading library\n",
    "from sklearn.neighbors import KNeighborsClassifier\n",
    "from sklearn.cross_validation import KFold, cross_val_score\n",
    "from sklearn.metrics import accuracy_score, roc_curve,\\\n",
    "                            confusion_matrix, precision_recall_curve, \\\n",
    "                            auc, roc_auc_score, recall_score, classification_report\n",
    "from sklearn.metrics import f1_score\n",
    "from sklearn.ensemble import RandomForestClassifier\n",
    "from collections import OrderedDict\n",
    "from sklearn import svm\n",
    "import random"
   ]
  },
  {
   "cell_type": "code",
   "execution_count": 93,
   "metadata": {},
   "outputs": [],
   "source": [
    "cols = ['A'+str(i) for i in range(1,17)]\n",
    "df = pd.read_csv('data/data.csv', names=cols)"
   ]
  },
  {
   "cell_type": "code",
   "execution_count": 94,
   "metadata": {},
   "outputs": [
    {
     "data": {
      "text/html": [
       "<div>\n",
       "<style>\n",
       "    .dataframe thead tr:only-child th {\n",
       "        text-align: right;\n",
       "    }\n",
       "\n",
       "    .dataframe thead th {\n",
       "        text-align: left;\n",
       "    }\n",
       "\n",
       "    .dataframe tbody tr th {\n",
       "        vertical-align: top;\n",
       "    }\n",
       "</style>\n",
       "<table border=\"1\" class=\"dataframe\">\n",
       "  <thead>\n",
       "    <tr style=\"text-align: right;\">\n",
       "      <th></th>\n",
       "      <th>A1</th>\n",
       "      <th>A2</th>\n",
       "      <th>A3</th>\n",
       "      <th>A4</th>\n",
       "      <th>A5</th>\n",
       "      <th>A6</th>\n",
       "      <th>A7</th>\n",
       "      <th>A8</th>\n",
       "      <th>A9</th>\n",
       "      <th>A10</th>\n",
       "      <th>A11</th>\n",
       "      <th>A12</th>\n",
       "      <th>A13</th>\n",
       "      <th>A14</th>\n",
       "      <th>A15</th>\n",
       "      <th>A16</th>\n",
       "    </tr>\n",
       "  </thead>\n",
       "  <tbody>\n",
       "    <tr>\n",
       "      <th>0</th>\n",
       "      <td>b</td>\n",
       "      <td>30.83</td>\n",
       "      <td>0.000</td>\n",
       "      <td>u</td>\n",
       "      <td>g</td>\n",
       "      <td>w</td>\n",
       "      <td>v</td>\n",
       "      <td>1.25</td>\n",
       "      <td>t</td>\n",
       "      <td>t</td>\n",
       "      <td>1</td>\n",
       "      <td>f</td>\n",
       "      <td>g</td>\n",
       "      <td>00202</td>\n",
       "      <td>0</td>\n",
       "      <td>+</td>\n",
       "    </tr>\n",
       "    <tr>\n",
       "      <th>1</th>\n",
       "      <td>a</td>\n",
       "      <td>58.67</td>\n",
       "      <td>4.460</td>\n",
       "      <td>u</td>\n",
       "      <td>g</td>\n",
       "      <td>q</td>\n",
       "      <td>h</td>\n",
       "      <td>3.04</td>\n",
       "      <td>t</td>\n",
       "      <td>t</td>\n",
       "      <td>6</td>\n",
       "      <td>f</td>\n",
       "      <td>g</td>\n",
       "      <td>00043</td>\n",
       "      <td>560</td>\n",
       "      <td>+</td>\n",
       "    </tr>\n",
       "    <tr>\n",
       "      <th>2</th>\n",
       "      <td>a</td>\n",
       "      <td>24.50</td>\n",
       "      <td>0.500</td>\n",
       "      <td>u</td>\n",
       "      <td>g</td>\n",
       "      <td>q</td>\n",
       "      <td>h</td>\n",
       "      <td>1.50</td>\n",
       "      <td>t</td>\n",
       "      <td>f</td>\n",
       "      <td>0</td>\n",
       "      <td>f</td>\n",
       "      <td>g</td>\n",
       "      <td>00280</td>\n",
       "      <td>824</td>\n",
       "      <td>+</td>\n",
       "    </tr>\n",
       "    <tr>\n",
       "      <th>3</th>\n",
       "      <td>b</td>\n",
       "      <td>27.83</td>\n",
       "      <td>1.540</td>\n",
       "      <td>u</td>\n",
       "      <td>g</td>\n",
       "      <td>w</td>\n",
       "      <td>v</td>\n",
       "      <td>3.75</td>\n",
       "      <td>t</td>\n",
       "      <td>t</td>\n",
       "      <td>5</td>\n",
       "      <td>t</td>\n",
       "      <td>g</td>\n",
       "      <td>00100</td>\n",
       "      <td>3</td>\n",
       "      <td>+</td>\n",
       "    </tr>\n",
       "    <tr>\n",
       "      <th>4</th>\n",
       "      <td>b</td>\n",
       "      <td>20.17</td>\n",
       "      <td>5.625</td>\n",
       "      <td>u</td>\n",
       "      <td>g</td>\n",
       "      <td>w</td>\n",
       "      <td>v</td>\n",
       "      <td>1.71</td>\n",
       "      <td>t</td>\n",
       "      <td>f</td>\n",
       "      <td>0</td>\n",
       "      <td>f</td>\n",
       "      <td>s</td>\n",
       "      <td>00120</td>\n",
       "      <td>0</td>\n",
       "      <td>+</td>\n",
       "    </tr>\n",
       "  </tbody>\n",
       "</table>\n",
       "</div>"
      ],
      "text/plain": [
       "  A1     A2     A3 A4 A5 A6 A7    A8 A9 A10  A11 A12 A13    A14  A15 A16\n",
       "0  b  30.83  0.000  u  g  w  v  1.25  t   t    1   f   g  00202    0   +\n",
       "1  a  58.67  4.460  u  g  q  h  3.04  t   t    6   f   g  00043  560   +\n",
       "2  a  24.50  0.500  u  g  q  h  1.50  t   f    0   f   g  00280  824   +\n",
       "3  b  27.83  1.540  u  g  w  v  3.75  t   t    5   t   g  00100    3   +\n",
       "4  b  20.17  5.625  u  g  w  v  1.71  t   f    0   f   s  00120    0   +"
      ]
     },
     "execution_count": 94,
     "metadata": {},
     "output_type": "execute_result"
    }
   ],
   "source": [
    "df.head()"
   ]
  },
  {
   "cell_type": "code",
   "execution_count": 95,
   "metadata": {},
   "outputs": [
    {
     "data": {
      "text/plain": [
       "A1     False\n",
       "A2     False\n",
       "A3     False\n",
       "A4     False\n",
       "A5     False\n",
       "A6     False\n",
       "A7     False\n",
       "A8     False\n",
       "A9     False\n",
       "A10    False\n",
       "A11    False\n",
       "A12    False\n",
       "A13    False\n",
       "A14    False\n",
       "A15    False\n",
       "A16    False\n",
       "dtype: bool"
      ]
     },
     "execution_count": 95,
     "metadata": {},
     "output_type": "execute_result"
    }
   ],
   "source": [
    "df.isnull().any()"
   ]
  },
  {
   "cell_type": "code",
   "execution_count": 96,
   "metadata": {},
   "outputs": [
    {
     "data": {
      "text/plain": [
       "A1      object\n",
       "A2      object\n",
       "A3     float64\n",
       "A4      object\n",
       "A5      object\n",
       "A6      object\n",
       "A7      object\n",
       "A8     float64\n",
       "A9      object\n",
       "A10     object\n",
       "A11      int64\n",
       "A12     object\n",
       "A13     object\n",
       "A14     object\n",
       "A15      int64\n",
       "A16     object\n",
       "dtype: object"
      ]
     },
     "execution_count": 96,
     "metadata": {},
     "output_type": "execute_result"
    }
   ],
   "source": [
    "df.dtypes"
   ]
  },
  {
   "cell_type": "code",
   "execution_count": 97,
   "metadata": {},
   "outputs": [
    {
     "data": {
      "text/plain": [
       "A2     True\n",
       "A14    True\n",
       "dtype: bool"
      ]
     },
     "execution_count": 97,
     "metadata": {},
     "output_type": "execute_result"
    }
   ],
   "source": [
    "df['A14'] = pd.to_numeric(df['A14'], errors='coerce')\n",
    "df['A2'] = pd.to_numeric(df['A2'], errors='coerce')\n",
    "\n",
    "df[['A2', 'A14']].isnull().any()"
   ]
  },
  {
   "cell_type": "code",
   "execution_count": 98,
   "metadata": {},
   "outputs": [
    {
     "data": {
      "text/plain": [
       "Index([u'A1', u'A4', u'A5', u'A6', u'A7', u'A9', u'A10', u'A12', u'A13',\n",
       "       u'A16'],\n",
       "      dtype='object')"
      ]
     },
     "execution_count": 98,
     "metadata": {},
     "output_type": "execute_result"
    }
   ],
   "source": [
    "categorical = df.dtypes[df.dtypes == \"object\"].index\n",
    "categorical"
   ]
  },
  {
   "cell_type": "code",
   "execution_count": 99,
   "metadata": {},
   "outputs": [
    {
     "data": {
      "text/plain": [
       "A2     False\n",
       "A14    False\n",
       "dtype: bool"
      ]
     },
     "execution_count": 99,
     "metadata": {},
     "output_type": "execute_result"
    }
   ],
   "source": [
    "df['A14'].fillna(df['A14'].mean(), inplace=True)\n",
    "df['A2'].fillna(df['A2'].mean(), inplace=True)\n",
    "df[['A2', 'A14']].isnull().any()"
   ]
  },
  {
   "cell_type": "code",
   "execution_count": 100,
   "metadata": {},
   "outputs": [
    {
     "name": "stdout",
     "output_type": "stream",
     "text": [
      "A1 [2 1 0]\n",
      "A4 [2 3 0 1]\n",
      "A5 [1 3 0 2]\n",
      "A6 [13 11 10 12  3  9  2  4 14  7  5  1  6  8  0]\n",
      "A7 [8 4 1 3 5 9 0 7 2 6]\n",
      "A9 [1 0]\n",
      "A10 [1 0]\n",
      "A12 [0 1]\n",
      "A13 [0 2 1]\n",
      "A16 [0 1]\n"
     ]
    }
   ],
   "source": [
    "for c in categorical:\n",
    "    df[c] = df[c].astype('category')\n",
    "    df[c] = df[c].cat.codes\n",
    "\n",
    "for c in categorical:\n",
    "    print c, df[c].unique()"
   ]
  },
  {
   "cell_type": "code",
   "execution_count": 101,
   "metadata": {},
   "outputs": [
    {
     "data": {
      "text/html": [
       "<div>\n",
       "<style>\n",
       "    .dataframe thead tr:only-child th {\n",
       "        text-align: right;\n",
       "    }\n",
       "\n",
       "    .dataframe thead th {\n",
       "        text-align: left;\n",
       "    }\n",
       "\n",
       "    .dataframe tbody tr th {\n",
       "        vertical-align: top;\n",
       "    }\n",
       "</style>\n",
       "<table border=\"1\" class=\"dataframe\">\n",
       "  <thead>\n",
       "    <tr style=\"text-align: right;\">\n",
       "      <th></th>\n",
       "      <th>A1</th>\n",
       "      <th>A2</th>\n",
       "      <th>A3</th>\n",
       "      <th>A4</th>\n",
       "      <th>A5</th>\n",
       "      <th>A6</th>\n",
       "      <th>A7</th>\n",
       "      <th>A8</th>\n",
       "      <th>A9</th>\n",
       "      <th>A10</th>\n",
       "      <th>A11</th>\n",
       "      <th>A12</th>\n",
       "      <th>A13</th>\n",
       "      <th>A14</th>\n",
       "      <th>A15</th>\n",
       "      <th>A16</th>\n",
       "    </tr>\n",
       "  </thead>\n",
       "  <tbody>\n",
       "    <tr>\n",
       "      <th>0</th>\n",
       "      <td>2</td>\n",
       "      <td>30.83</td>\n",
       "      <td>0.000</td>\n",
       "      <td>2</td>\n",
       "      <td>1</td>\n",
       "      <td>13</td>\n",
       "      <td>8</td>\n",
       "      <td>1.25</td>\n",
       "      <td>1</td>\n",
       "      <td>1</td>\n",
       "      <td>1</td>\n",
       "      <td>0</td>\n",
       "      <td>0</td>\n",
       "      <td>202.0</td>\n",
       "      <td>0</td>\n",
       "      <td>0</td>\n",
       "    </tr>\n",
       "    <tr>\n",
       "      <th>1</th>\n",
       "      <td>1</td>\n",
       "      <td>58.67</td>\n",
       "      <td>4.460</td>\n",
       "      <td>2</td>\n",
       "      <td>1</td>\n",
       "      <td>11</td>\n",
       "      <td>4</td>\n",
       "      <td>3.04</td>\n",
       "      <td>1</td>\n",
       "      <td>1</td>\n",
       "      <td>6</td>\n",
       "      <td>0</td>\n",
       "      <td>0</td>\n",
       "      <td>43.0</td>\n",
       "      <td>560</td>\n",
       "      <td>0</td>\n",
       "    </tr>\n",
       "    <tr>\n",
       "      <th>2</th>\n",
       "      <td>1</td>\n",
       "      <td>24.50</td>\n",
       "      <td>0.500</td>\n",
       "      <td>2</td>\n",
       "      <td>1</td>\n",
       "      <td>11</td>\n",
       "      <td>4</td>\n",
       "      <td>1.50</td>\n",
       "      <td>1</td>\n",
       "      <td>0</td>\n",
       "      <td>0</td>\n",
       "      <td>0</td>\n",
       "      <td>0</td>\n",
       "      <td>280.0</td>\n",
       "      <td>824</td>\n",
       "      <td>0</td>\n",
       "    </tr>\n",
       "    <tr>\n",
       "      <th>3</th>\n",
       "      <td>2</td>\n",
       "      <td>27.83</td>\n",
       "      <td>1.540</td>\n",
       "      <td>2</td>\n",
       "      <td>1</td>\n",
       "      <td>13</td>\n",
       "      <td>8</td>\n",
       "      <td>3.75</td>\n",
       "      <td>1</td>\n",
       "      <td>1</td>\n",
       "      <td>5</td>\n",
       "      <td>1</td>\n",
       "      <td>0</td>\n",
       "      <td>100.0</td>\n",
       "      <td>3</td>\n",
       "      <td>0</td>\n",
       "    </tr>\n",
       "    <tr>\n",
       "      <th>4</th>\n",
       "      <td>2</td>\n",
       "      <td>20.17</td>\n",
       "      <td>5.625</td>\n",
       "      <td>2</td>\n",
       "      <td>1</td>\n",
       "      <td>13</td>\n",
       "      <td>8</td>\n",
       "      <td>1.71</td>\n",
       "      <td>1</td>\n",
       "      <td>0</td>\n",
       "      <td>0</td>\n",
       "      <td>0</td>\n",
       "      <td>2</td>\n",
       "      <td>120.0</td>\n",
       "      <td>0</td>\n",
       "      <td>0</td>\n",
       "    </tr>\n",
       "  </tbody>\n",
       "</table>\n",
       "</div>"
      ],
      "text/plain": [
       "   A1     A2     A3  A4  A5  A6  A7    A8  A9  A10  A11  A12  A13    A14  A15  \\\n",
       "0   2  30.83  0.000   2   1  13   8  1.25   1    1    1    0    0  202.0    0   \n",
       "1   1  58.67  4.460   2   1  11   4  3.04   1    1    6    0    0   43.0  560   \n",
       "2   1  24.50  0.500   2   1  11   4  1.50   1    0    0    0    0  280.0  824   \n",
       "3   2  27.83  1.540   2   1  13   8  3.75   1    1    5    1    0  100.0    3   \n",
       "4   2  20.17  5.625   2   1  13   8  1.71   1    0    0    0    2  120.0    0   \n",
       "\n",
       "   A16  \n",
       "0    0  \n",
       "1    0  \n",
       "2    0  \n",
       "3    0  \n",
       "4    0  "
      ]
     },
     "execution_count": 101,
     "metadata": {},
     "output_type": "execute_result"
    }
   ],
   "source": [
    "df.head()"
   ]
  },
  {
   "cell_type": "code",
   "execution_count": 102,
   "metadata": {},
   "outputs": [
    {
     "data": {
      "text/plain": [
       "13"
      ]
     },
     "execution_count": 102,
     "metadata": {},
     "output_type": "execute_result"
    }
   ],
   "source": [
    "df_X = df.loc[:,df.columns != 'A16']\n",
    "df_Y = df.loc[:,df.columns == 'A16']\n",
    "\n",
    "scaler = StandardScaler()\n",
    "\n",
    "scaler.fit(df_X)\n",
    "\n",
    "df_X = scaler.transform(df_X)\n",
    "\n",
    "pca = PCA(0.95)\n",
    "\n",
    "pca.fit(df_X)\n",
    "\n",
    "pca.n_components_"
   ]
  },
  {
   "cell_type": "code",
   "execution_count": 103,
   "metadata": {},
   "outputs": [
    {
     "data": {
      "text/html": [
       "<div>\n",
       "<style>\n",
       "    .dataframe thead tr:only-child th {\n",
       "        text-align: right;\n",
       "    }\n",
       "\n",
       "    .dataframe thead th {\n",
       "        text-align: left;\n",
       "    }\n",
       "\n",
       "    .dataframe tbody tr th {\n",
       "        vertical-align: top;\n",
       "    }\n",
       "</style>\n",
       "<table border=\"1\" class=\"dataframe\">\n",
       "  <thead>\n",
       "    <tr style=\"text-align: right;\">\n",
       "      <th></th>\n",
       "      <th>0</th>\n",
       "      <th>1</th>\n",
       "      <th>2</th>\n",
       "      <th>3</th>\n",
       "      <th>4</th>\n",
       "      <th>5</th>\n",
       "      <th>6</th>\n",
       "      <th>7</th>\n",
       "      <th>8</th>\n",
       "      <th>9</th>\n",
       "      <th>10</th>\n",
       "      <th>11</th>\n",
       "      <th>12</th>\n",
       "    </tr>\n",
       "  </thead>\n",
       "  <tbody>\n",
       "    <tr>\n",
       "      <th>0</th>\n",
       "      <td>0.608214</td>\n",
       "      <td>-0.487231</td>\n",
       "      <td>-1.152745</td>\n",
       "      <td>1.189606</td>\n",
       "      <td>-0.529902</td>\n",
       "      <td>-0.718988</td>\n",
       "      <td>-0.150352</td>\n",
       "      <td>1.343104</td>\n",
       "      <td>-0.758682</td>\n",
       "      <td>0.363450</td>\n",
       "      <td>-0.862943</td>\n",
       "      <td>-0.587744</td>\n",
       "      <td>-0.091432</td>\n",
       "    </tr>\n",
       "    <tr>\n",
       "      <th>1</th>\n",
       "      <td>2.332068</td>\n",
       "      <td>-0.105321</td>\n",
       "      <td>-0.073857</td>\n",
       "      <td>-0.977699</td>\n",
       "      <td>1.350966</td>\n",
       "      <td>-0.931503</td>\n",
       "      <td>-0.746915</td>\n",
       "      <td>1.046745</td>\n",
       "      <td>-0.008028</td>\n",
       "      <td>0.629975</td>\n",
       "      <td>-1.306628</td>\n",
       "      <td>0.189038</td>\n",
       "      <td>-0.762518</td>\n",
       "    </tr>\n",
       "    <tr>\n",
       "      <th>2</th>\n",
       "      <td>-0.387843</td>\n",
       "      <td>-1.013050</td>\n",
       "      <td>-0.533345</td>\n",
       "      <td>0.142086</td>\n",
       "      <td>1.452059</td>\n",
       "      <td>-0.367127</td>\n",
       "      <td>-0.703424</td>\n",
       "      <td>0.846202</td>\n",
       "      <td>-0.117286</td>\n",
       "      <td>0.240693</td>\n",
       "      <td>-0.244986</td>\n",
       "      <td>-1.381648</td>\n",
       "      <td>0.561663</td>\n",
       "    </tr>\n",
       "    <tr>\n",
       "      <th>3</th>\n",
       "      <td>1.425313</td>\n",
       "      <td>-0.001775</td>\n",
       "      <td>-0.620446</td>\n",
       "      <td>1.782526</td>\n",
       "      <td>-0.694161</td>\n",
       "      <td>-0.948627</td>\n",
       "      <td>-0.262042</td>\n",
       "      <td>-0.063891</td>\n",
       "      <td>-0.299480</td>\n",
       "      <td>-0.760419</td>\n",
       "      <td>-0.834405</td>\n",
       "      <td>0.018269</td>\n",
       "      <td>0.302117</td>\n",
       "    </tr>\n",
       "    <tr>\n",
       "      <th>4</th>\n",
       "      <td>-0.571439</td>\n",
       "      <td>-1.304106</td>\n",
       "      <td>0.531213</td>\n",
       "      <td>0.659064</td>\n",
       "      <td>-1.972677</td>\n",
       "      <td>-0.150337</td>\n",
       "      <td>-1.305803</td>\n",
       "      <td>2.244422</td>\n",
       "      <td>1.734830</td>\n",
       "      <td>-0.862476</td>\n",
       "      <td>0.201497</td>\n",
       "      <td>-1.007336</td>\n",
       "      <td>-0.088176</td>\n",
       "    </tr>\n",
       "  </tbody>\n",
       "</table>\n",
       "</div>"
      ],
      "text/plain": [
       "         0         1         2         3         4         5         6   \\\n",
       "0  0.608214 -0.487231 -1.152745  1.189606 -0.529902 -0.718988 -0.150352   \n",
       "1  2.332068 -0.105321 -0.073857 -0.977699  1.350966 -0.931503 -0.746915   \n",
       "2 -0.387843 -1.013050 -0.533345  0.142086  1.452059 -0.367127 -0.703424   \n",
       "3  1.425313 -0.001775 -0.620446  1.782526 -0.694161 -0.948627 -0.262042   \n",
       "4 -0.571439 -1.304106  0.531213  0.659064 -1.972677 -0.150337 -1.305803   \n",
       "\n",
       "         7         8         9         10        11        12  \n",
       "0  1.343104 -0.758682  0.363450 -0.862943 -0.587744 -0.091432  \n",
       "1  1.046745 -0.008028  0.629975 -1.306628  0.189038 -0.762518  \n",
       "2  0.846202 -0.117286  0.240693 -0.244986 -1.381648  0.561663  \n",
       "3 -0.063891 -0.299480 -0.760419 -0.834405  0.018269  0.302117  \n",
       "4  2.244422  1.734830 -0.862476  0.201497 -1.007336 -0.088176  "
      ]
     },
     "execution_count": 103,
     "metadata": {},
     "output_type": "execute_result"
    }
   ],
   "source": [
    "df_X = pca.transform(df_X)\n",
    "\n",
    "df_X= pd.DataFrame(df_X)\n",
    "df_X.head()"
   ]
  },
  {
   "cell_type": "code",
   "execution_count": 104,
   "metadata": {},
   "outputs": [
    {
     "data": {
      "text/plain": [
       "((552, 13), (552, 1), (138, 13), (138, 1))"
      ]
     },
     "execution_count": 104,
     "metadata": {},
     "output_type": "execute_result"
    }
   ],
   "source": [
    "X_train, X_test, y_train, y_test = train_test_split(df_X, df_Y, test_size=0.20)\n",
    "X_train.shape, y_train.shape, X_test.shape, y_test.shape"
   ]
  },
  {
   "cell_type": "code",
   "execution_count": 105,
   "metadata": {},
   "outputs": [
    {
     "name": "stdout",
     "output_type": "stream",
     "text": [
      "------------------------\n",
      "('C Parameter :', 0.0001)\n",
      "('Penalty: ', 'l1')\n",
      "------------------------\n",
      "\n",
      "('Recall score for c param', 0.0001, 'and penalty', 'l1', '=', 0.0)\n",
      "-------------------------\n",
      "\n",
      "------------------------\n",
      "('C Parameter :', 0.001)\n",
      "('Penalty: ', 'l1')\n",
      "------------------------\n",
      "\n",
      "('Recall score for c param', 0.001, 'and penalty', 'l1', '=', 0.0)\n",
      "-------------------------\n",
      "\n",
      "------------------------\n",
      "('C Parameter :', 0.01)\n",
      "('Penalty: ', 'l1')\n",
      "------------------------\n",
      "\n",
      "('Recall score for c param', 0.01, 'and penalty', 'l1', '=', 0.88311688311688308)\n",
      "-------------------------\n",
      "\n",
      "------------------------\n",
      "('C Parameter :', 0.1)\n",
      "('Penalty: ', 'l1')\n",
      "------------------------\n",
      "\n",
      "('Recall score for c param', 0.1, 'and penalty', 'l1', '=', 0.87012987012987009)\n",
      "-------------------------\n",
      "\n",
      "------------------------\n",
      "('C Parameter :', 1)\n",
      "('Penalty: ', 'l1')\n",
      "------------------------\n",
      "\n",
      "('Recall score for c param', 1, 'and penalty', 'l1', '=', 0.8441558441558441)\n",
      "-------------------------\n",
      "\n",
      "------------------------\n",
      "('C Parameter :', 10)\n",
      "('Penalty: ', 'l1')\n",
      "------------------------\n",
      "\n",
      "('Recall score for c param', 10, 'and penalty', 'l1', '=', 0.87012987012987009)\n",
      "-------------------------\n",
      "\n",
      "------------------------\n",
      "('C Parameter :', 100)\n",
      "('Penalty: ', 'l1')\n",
      "------------------------\n",
      "\n",
      "('Recall score for c param', 100, 'and penalty', 'l1', '=', 0.87012987012987009)\n",
      "-------------------------\n",
      "\n",
      "------------------------\n",
      "('C Parameter :', 0.0001)\n",
      "('Penalty: ', 'l2')\n",
      "------------------------\n",
      "\n",
      "('Recall score for c param', 0.0001, 'and penalty', 'l2', '=', 0.92207792207792205)\n",
      "-------------------------\n",
      "\n",
      "------------------------\n",
      "('C Parameter :', 0.001)\n",
      "('Penalty: ', 'l2')\n",
      "------------------------\n",
      "\n",
      "('Recall score for c param', 0.001, 'and penalty', 'l2', '=', 0.93506493506493504)\n",
      "-------------------------\n",
      "\n",
      "------------------------\n",
      "('C Parameter :', 0.01)\n",
      "('Penalty: ', 'l2')\n",
      "------------------------\n",
      "\n",
      "('Recall score for c param', 0.01, 'and penalty', 'l2', '=', 0.89610389610389607)\n",
      "-------------------------\n",
      "\n",
      "------------------------\n",
      "('C Parameter :', 0.1)\n",
      "('Penalty: ', 'l2')\n",
      "------------------------\n",
      "\n",
      "('Recall score for c param', 0.1, 'and penalty', 'l2', '=', 0.8571428571428571)\n",
      "-------------------------\n",
      "\n",
      "------------------------\n",
      "('C Parameter :', 1)\n",
      "('Penalty: ', 'l2')\n",
      "------------------------\n",
      "\n",
      "('Recall score for c param', 1, 'and penalty', 'l2', '=', 0.8571428571428571)\n",
      "-------------------------\n",
      "\n",
      "------------------------\n",
      "('C Parameter :', 10)\n",
      "('Penalty: ', 'l2')\n",
      "------------------------\n",
      "\n",
      "('Recall score for c param', 10, 'and penalty', 'l2', '=', 0.87012987012987009)\n",
      "-------------------------\n",
      "\n",
      "------------------------\n",
      "('C Parameter :', 100)\n",
      "('Penalty: ', 'l2')\n",
      "------------------------\n",
      "\n",
      "('Recall score for c param', 100, 'and penalty', 'l2', '=', 0.87012987012987009)\n",
      "-------------------------\n",
      "\n"
     ]
    }
   ],
   "source": [
    "c_parameter_range = [0.0001,0.001,0.01,0.1,1,10,100]\n",
    "penalty = ['l1','l2']\n",
    "for penal in penalty:\n",
    "    for c_param in c_parameter_range:\n",
    "        \n",
    "        print('------------------------')\n",
    "        print(\"C Parameter :\", c_param)\n",
    "        print(\"Penalty: \", penal)\n",
    "        print('------------------------')\n",
    "        print('')\n",
    "        lr = LogisticRegression(C = c_param, penalty = penal)\n",
    "        lr.fit(X_train,y_train)\n",
    "        y_pred = lr.predict(X_test)\n",
    "        Recall = recall_score(y_test,y_pred)\n",
    "        print ('Recall score for c param', c_param,'and penalty',penal,'=',Recall)\n",
    "        print('-------------------------')\n",
    "        print('')"
   ]
  },
  {
   "cell_type": "code",
   "execution_count": 106,
   "metadata": {},
   "outputs": [
    {
     "data": {
      "text/plain": [
       "0.89610389610389607"
      ]
     },
     "execution_count": 106,
     "metadata": {},
     "output_type": "execute_result"
    }
   ],
   "source": [
    "lr = LogisticRegression(C =0.01,penalty = 'l2')\n",
    "\n",
    "lr.fit(X_train,y_train)\n",
    "y_pred = lr.predict(X_test)\n",
    "Recall = recall_score(y_test,y_pred)\n",
    "Recall"
   ]
  },
  {
   "cell_type": "code",
   "execution_count": 107,
   "metadata": {},
   "outputs": [
    {
     "data": {
      "text/plain": [
       "array([[56,  5],\n",
       "       [ 8, 69]])"
      ]
     },
     "execution_count": 107,
     "metadata": {},
     "output_type": "execute_result"
    }
   ],
   "source": [
    "confusion_matrix(y_test,y_pred)"
   ]
  },
  {
   "cell_type": "code",
   "execution_count": 108,
   "metadata": {},
   "outputs": [
    {
     "data": {
      "image/png": "[encoded data removed]",
      "text/plain": [
       "<matplotlib.figure.Figure at 0x1141ff790>"
      ]
     },
     "metadata": {},
     "output_type": "display_data"
    }
   ],
   "source": [
    "RANDOM_STATE = 123\n",
    "\n",
    "import warnings\n",
    "warnings.filterwarnings(\"ignore\")\n",
    "ensemble_clfs = [\n",
    "    (\"RandomForestClassifier, max_features='sqrt'\",\n",
    "        RandomForestClassifier(warm_start=True, oob_score=True,\n",
    "                               max_features=\"sqrt\",\n",
    "                               random_state=RANDOM_STATE)),\n",
    "    (\"RandomForestClassifier, max_features='log2'\",\n",
    "        RandomForestClassifier(warm_start=True, max_features='log2',\n",
    "                               oob_score=True,\n",
    "                               random_state=RANDOM_STATE)),\n",
    "    (\"RandomForestClassifier, max_features=None\",\n",
    "        RandomForestClassifier(warm_start=True, max_features=None,\n",
    "                               oob_score=True,\n",
    "                               random_state=RANDOM_STATE))\n",
    "]\n",
    "\n",
    "# Map a classifier name to a list of (<n_estimators>, <error rate>) pairs.\n",
    "error_rate = OrderedDict((label, []) for label, _ in ensemble_clfs)\n",
    "\n",
    "# Range of `n_estimators` values to explore.\n",
    "min_estimators = 15\n",
    "max_estimators = 150\n",
    "\n",
    "for label, clf in ensemble_clfs:\n",
    "    for i in range(min_estimators, max_estimators + 1):\n",
    "        clf.set_params(n_estimators=i)\n",
    "        clf.fit(X_train,y_train)\n",
    "\n",
    "        # Record the OOB error for each `n_estimators=i` setting.\n",
    "        y_pred = clf.predict(X_test)\n",
    "        recall = recall_score(y_test,y_pred)\n",
    "        error = 1 - recall\n",
    "        error_rate[label].append((i, error))\n",
    "\n",
    "# Generate the \"OOB error rate\" vs. \"n_estimators\" plot.\n",
    "for label, clf_err in error_rate.items():\n",
    "    xs, ys = zip(*clf_err)\n",
    "    plt.plot(xs, ys, label=label)\n",
    "\n",
    "plt.xlim(min_estimators, max_estimators)\n",
    "plt.xlabel(\"n_estimators\")\n",
    "plt.ylabel(\"Recall error rate\")\n",
    "plt.legend(loc=\"upper right\")\n",
    "plt.show()\n"
   ]
  },
  {
   "cell_type": "code",
   "execution_count": 124,
   "metadata": {},
   "outputs": [
    {
     "data": {
      "text/plain": [
       "0.87012987012987009"
      ]
     },
     "execution_count": 124,
     "metadata": {},
     "output_type": "execute_result"
    }
   ],
   "source": [
    "clf = RandomForestClassifier(n_estimators=30,max_features= 'sqrt',oob_score =True)\n",
    "\n",
    "clf.fit(X_train,y_train)\n",
    "\n",
    "clf.oob_score_\n",
    "\n",
    "y_pred = clf.predict(X_test)\n",
    "recall_score(y_test,y_pred)"
   ]
  },
  {
   "cell_type": "code",
   "execution_count": 110,
   "metadata": {},
   "outputs": [
    {
     "data": {
      "text/plain": [
       "array([[56,  5],\n",
       "       [ 9, 68]])"
      ]
     },
     "execution_count": 110,
     "metadata": {},
     "output_type": "execute_result"
    }
   ],
   "source": [
    "confusion_matrix(y_test,y_pred)"
   ]
  },
  {
   "cell_type": "code",
   "execution_count": 125,
   "metadata": {},
   "outputs": [
    {
     "data": {
      "text/plain": [
       "0.87012987012987009"
      ]
     },
     "execution_count": 125,
     "metadata": {},
     "output_type": "execute_result"
    }
   ],
   "source": [
    "# instantiate learning model (k = 3)\n",
    "knn = KNeighborsClassifier(n_neighbors=3)\n",
    "\n",
    "# fitting the model\n",
    "knn.fit(X_train, y_train)\n",
    "\n",
    "# predict the response\n",
    "pred = knn.predict(X_test)\n",
    "\n",
    "# evaluate accuracy\n",
    "recall_score(y_test,y_pred)"
   ]
  },
  {
   "cell_type": "code",
   "execution_count": 115,
   "metadata": {},
   "outputs": [],
   "source": [
    "# creating odd list of K for KNN\n",
    "neighbors = filter(lambda x: x % 2 != 0, list(range(1,50)))\n",
    "# empty list that will hold cv scores\n",
    "cv_scores = {}\n",
    "\n",
    "# perform 10-fold cross validation\n",
    "for k in neighbors:\n",
    "    knn = KNeighborsClassifier(n_neighbors=k)\n",
    "    scores = cross_val_score(knn, X_train, y_train.values.ravel(), cv=10, scoring='accuracy')\n",
    "    cv_scores[k] = scores.mean()"
   ]
  },
  {
   "cell_type": "code",
   "execution_count": 120,
   "metadata": {},
   "outputs": [
    {
     "data": {
      "text/plain": [
       "7"
      ]
     },
     "execution_count": 120,
     "metadata": {},
     "output_type": "execute_result"
    }
   ],
   "source": [
    "bess_k = max(cv_scores, key=lambda k: cv_scores[k])\n",
    "bess_k"
   ]
  },
  {
   "cell_type": "code",
   "execution_count": 127,
   "metadata": {},
   "outputs": [
    {
     "data": {
      "text/plain": [
       "0.87012987012987009"
      ]
     },
     "execution_count": 127,
     "metadata": {},
     "output_type": "execute_result"
    }
   ],
   "source": [
    "# instantiate learning model (k = 3)\n",
    "knn = KNeighborsClassifier(n_neighbors=7)\n",
    "\n",
    "# fitting the model\n",
    "knn.fit(X_train, y_train)\n",
    "\n",
    "# predict the response\n",
    "pred = knn.predict(X_test)\n",
    "\n",
    "# evaluate accuracy\n",
    "recall_score(y_test,y_pred)"
   ]
  },
  {
   "cell_type": "code",
   "execution_count": 129,
   "metadata": {},
   "outputs": [
    {
     "name": "stdout",
     "output_type": "stream",
     "text": [
      "{'bootstrap': [True, False],\n",
      " 'max_depth': [10, 20, 30, 40, 50, 60, 70, 80, 90, 100, 110, None],\n",
      " 'max_features': ['auto', 'sqrt'],\n",
      " 'min_samples_leaf': [1, 2, 4],\n",
      " 'min_samples_split': [2, 5, 10],\n",
      " 'n_estimators': [200, 400, 600, 800, 1000, 1200, 1400, 1600, 1800, 2000]}\n"
     ]
    }
   ],
   "source": [
    "from pprint import pprint\n",
    "from sklearn.model_selection import RandomizedSearchCV\n",
    "# Number of trees in random forest\n",
    "n_estimators = [int(x) for x in np.linspace(start = 200, stop = 2000, num = 10)]\n",
    "# Number of features to consider at every split\n",
    "max_features = ['auto', 'sqrt']\n",
    "# Maximum number of levels in tree\n",
    "max_depth = [int(x) for x in np.linspace(10, 110, num = 11)]\n",
    "max_depth.append(None)\n",
    "# Minimum number of samples required to split a node\n",
    "min_samples_split = [2, 5, 10]\n",
    "# Minimum number of samples required at each leaf node\n",
    "min_samples_leaf = [1, 2, 4]\n",
    "# Method of selecting samples for training each tree\n",
    "bootstrap = [True, False]\n",
    "# Create the random grid\n",
    "random_grid = {'n_estimators': n_estimators,\n",
    "               'max_features': max_features,\n",
    "               'max_depth': max_depth,\n",
    "               'min_samples_split': min_samples_split,\n",
    "               'min_samples_leaf': min_samples_leaf,\n",
    "               'bootstrap': bootstrap}\n",
    "pprint(random_grid)"
   ]
  },
  {
   "cell_type": "code",
   "execution_count": 131,
   "metadata": {},
   "outputs": [
    {
     "name": "stdout",
     "output_type": "stream",
     "text": [
      "Fitting 5 folds for each of 6 candidates, totalling 30 fits\n",
      "[CV] bootstrap=True, min_samples_leaf=2, n_estimators=200, min_samples_split=10, max_features=sqrt, max_depth=50 \n",
      "[CV] bootstrap=True, min_samples_leaf=2, n_estimators=200, min_samples_split=10, max_features=sqrt, max_depth=50 \n",
      "[CV] bootstrap=True, min_samples_leaf=2, n_estimators=200, min_samples_split=10, max_features=sqrt, max_depth=50 \n",
      "[CV] bootstrap=True, min_samples_leaf=2, n_estimators=200, min_samples_split=10, max_features=sqrt, max_depth=50 \n",
      "[CV]  bootstrap=True, min_samples_leaf=2, n_estimators=200, min_samples_split=10, max_features=sqrt, max_depth=50, total=   1.0s\n",
      "[CV] bootstrap=True, min_samples_leaf=2, n_estimators=200, min_samples_split=10, max_features=sqrt, max_depth=50 \n",
      "[CV]  bootstrap=True, min_samples_leaf=2, n_estimators=200, min_samples_split=10, max_features=sqrt, max_depth=50, total=   1.0s\n",
      "[CV] bootstrap=False, min_samples_leaf=4, n_estimators=600, min_samples_split=10, max_features=sqrt, max_depth=90 \n",
      "[CV]  bootstrap=True, min_samples_leaf=2, n_estimators=200, min_samples_split=10, max_features=sqrt, max_depth=50, total=   1.0s\n",
      "[CV] bootstrap=False, min_samples_leaf=4, n_estimators=600, min_samples_split=10, max_features=sqrt, max_depth=90 \n",
      "[CV]  bootstrap=True, min_samples_leaf=2, n_estimators=200, min_samples_split=10, max_features=sqrt, max_depth=50, total=   1.0s\n",
      "[CV] bootstrap=False, min_samples_leaf=4, n_estimators=600, min_samples_split=10, max_features=sqrt, max_depth=90 \n",
      "[CV]  bootstrap=True, min_samples_leaf=2, n_estimators=200, min_samples_split=10, max_features=sqrt, max_depth=50, total=   1.1s\n",
      "[CV] bootstrap=False, min_samples_leaf=4, n_estimators=600, min_samples_split=10, max_features=sqrt, max_depth=90 \n",
      "[CV]  bootstrap=False, min_samples_leaf=4, n_estimators=600, min_samples_split=10, max_features=sqrt, max_depth=90, total=   3.4s\n",
      "[CV] bootstrap=False, min_samples_leaf=4, n_estimators=600, min_samples_split=10, max_features=sqrt, max_depth=90 \n",
      "[CV]  bootstrap=False, min_samples_leaf=4, n_estimators=600, min_samples_split=10, max_features=sqrt, max_depth=90, total=   3.4s\n",
      "[CV] bootstrap=False, min_samples_leaf=2, n_estimators=600, min_samples_split=2, max_features=auto, max_depth=60 \n",
      "[CV]  bootstrap=False, min_samples_leaf=4, n_estimators=600, min_samples_split=10, max_features=sqrt, max_depth=90, total=   3.5s\n",
      "[CV] bootstrap=False, min_samples_leaf=2, n_estimators=600, min_samples_split=2, max_features=auto, max_depth=60 \n",
      "[CV]  bootstrap=False, min_samples_leaf=4, n_estimators=600, min_samples_split=10, max_features=sqrt, max_depth=90, total=   3.7s\n",
      "[CV] bootstrap=False, min_samples_leaf=2, n_estimators=600, min_samples_split=2, max_features=auto, max_depth=60 \n",
      "[CV]  bootstrap=False, min_samples_leaf=4, n_estimators=600, min_samples_split=10, max_features=sqrt, max_depth=90, total=   3.7s\n",
      "[CV] bootstrap=False, min_samples_leaf=2, n_estimators=600, min_samples_split=2, max_features=auto, max_depth=60 \n",
      "[CV]  bootstrap=False, min_samples_leaf=2, n_estimators=600, min_samples_split=2, max_features=auto, max_depth=60, total=   3.7s\n",
      "[CV] bootstrap=False, min_samples_leaf=2, n_estimators=600, min_samples_split=2, max_features=auto, max_depth=60 \n",
      "[CV]  bootstrap=False, min_samples_leaf=2, n_estimators=600, min_samples_split=2, max_features=auto, max_depth=60, total=   3.9s\n",
      "[CV] bootstrap=True, min_samples_leaf=1, n_estimators=1400, min_samples_split=5, max_features=sqrt, max_depth=30 \n",
      "[CV]  bootstrap=False, min_samples_leaf=2, n_estimators=600, min_samples_split=2, max_features=auto, max_depth=60, total=   3.8s\n",
      "[CV] bootstrap=True, min_samples_leaf=1, n_estimators=1400, min_samples_split=5, max_features=sqrt, max_depth=30 \n",
      "[CV]  bootstrap=False, min_samples_leaf=2, n_estimators=600, min_samples_split=2, max_features=auto, max_depth=60, total=   4.0s\n",
      "[CV] bootstrap=True, min_samples_leaf=1, n_estimators=1400, min_samples_split=5, max_features=sqrt, max_depth=30 \n",
      "[CV]  bootstrap=False, min_samples_leaf=2, n_estimators=600, min_samples_split=2, max_features=auto, max_depth=60, total=   4.0s\n",
      "[CV] bootstrap=True, min_samples_leaf=1, n_estimators=1400, min_samples_split=5, max_features=sqrt, max_depth=30 \n",
      "[CV]  bootstrap=True, min_samples_leaf=1, n_estimators=1400, min_samples_split=5, max_features=sqrt, max_depth=30, total=   7.8s\n",
      "[CV] bootstrap=True, min_samples_leaf=1, n_estimators=1400, min_samples_split=5, max_features=sqrt, max_depth=30 \n",
      "[CV]  bootstrap=True, min_samples_leaf=1, n_estimators=1400, min_samples_split=5, max_features=sqrt, max_depth=30, total=   7.6s\n",
      "[CV] bootstrap=False, min_samples_leaf=1, n_estimators=1000, min_samples_split=10, max_features=auto, max_depth=80 \n",
      "[CV]  bootstrap=True, min_samples_leaf=1, n_estimators=1400, min_samples_split=5, max_features=sqrt, max_depth=30, total=   7.3s\n",
      "[CV] bootstrap=False, min_samples_leaf=1, n_estimators=1000, min_samples_split=10, max_features=auto, max_depth=80 \n",
      "[CV]  bootstrap=True, min_samples_leaf=1, n_estimators=1400, min_samples_split=5, max_features=sqrt, max_depth=30, total=   7.4s\n",
      "[CV] bootstrap=False, min_samples_leaf=1, n_estimators=1000, min_samples_split=10, max_features=auto, max_depth=80 \n",
      "[CV]  bootstrap=False, min_samples_leaf=1, n_estimators=1000, min_samples_split=10, max_features=auto, max_depth=80, total=   6.3s\n",
      "[CV] bootstrap=False, min_samples_leaf=1, n_estimators=1000, min_samples_split=10, max_features=auto, max_depth=80 \n",
      "[CV]  bootstrap=True, min_samples_leaf=1, n_estimators=1400, min_samples_split=5, max_features=sqrt, max_depth=30, total=   8.1s\n",
      "[CV] bootstrap=False, min_samples_leaf=1, n_estimators=1000, min_samples_split=10, max_features=auto, max_depth=80 \n",
      "[CV]  bootstrap=False, min_samples_leaf=1, n_estimators=1000, min_samples_split=10, max_features=auto, max_depth=80, total=   6.2s\n",
      "[CV] bootstrap=False, min_samples_leaf=1, n_estimators=400, min_samples_split=10, max_features=sqrt, max_depth=60 \n",
      "[CV]  bootstrap=False, min_samples_leaf=1, n_estimators=1000, min_samples_split=10, max_features=auto, max_depth=80, total=   6.2s\n",
      "[CV] bootstrap=False, min_samples_leaf=1, n_estimators=400, min_samples_split=10, max_features=sqrt, max_depth=60 \n",
      "[CV]  bootstrap=False, min_samples_leaf=1, n_estimators=400, min_samples_split=10, max_features=sqrt, max_depth=60, total=   2.4s\n",
      "[CV] bootstrap=False, min_samples_leaf=1, n_estimators=400, min_samples_split=10, max_features=sqrt, max_depth=60 \n",
      "[CV]  bootstrap=False, min_samples_leaf=1, n_estimators=400, min_samples_split=10, max_features=sqrt, max_depth=60, total=   2.4s\n",
      "[CV] bootstrap=False, min_samples_leaf=1, n_estimators=400, min_samples_split=10, max_features=sqrt, max_depth=60 \n",
      "[CV]  bootstrap=False, min_samples_leaf=1, n_estimators=1000, min_samples_split=10, max_features=auto, max_depth=80, total=   6.1s\n",
      "[CV] bootstrap=False, min_samples_leaf=1, n_estimators=400, min_samples_split=10, max_features=sqrt, max_depth=60 \n",
      "[CV]  bootstrap=False, min_samples_leaf=1, n_estimators=1000, min_samples_split=10, max_features=auto, max_depth=80, total=   6.1s\n",
      "[CV]  bootstrap=False, min_samples_leaf=1, n_estimators=400, min_samples_split=10, max_features=sqrt, max_depth=60, total=   2.3s\n",
      "[CV]  bootstrap=False, min_samples_leaf=1, n_estimators=400, min_samples_split=10, max_features=sqrt, max_depth=60, total=   2.2s\n",
      "[CV]  bootstrap=False, min_samples_leaf=1, n_estimators=400, min_samples_split=10, max_features=sqrt, max_depth=60, total=   1.9s\n"
     ]
    },
    {
     "name": "stderr",
     "output_type": "stream",
     "text": [
      "[Parallel(n_jobs=-1)]: Done  30 out of  30 | elapsed:   32.4s finished\n"
     ]
    },
    {
     "data": {
      "text/plain": [
       "RandomizedSearchCV(cv=5, error_score='raise',\n",
       "          estimator=RandomForestClassifier(bootstrap=True, class_weight=None, criterion='gini',\n",
       "            max_depth=None, max_features='auto', max_leaf_nodes=None,\n",
       "            min_impurity_decrease=0.0, min_impurity_split=None,\n",
       "            min_samples_leaf=1, min_samples_split=2,\n",
       "            min_weight_fraction_leaf=0.0, n_estimators=10, n_jobs=1,\n",
       "            oob_score=False, random_state=None, verbose=0,\n",
       "            warm_start=False),\n",
       "          fit_params=None, iid=True, n_iter=6, n_jobs=-1,\n",
       "          param_distributions={'bootstrap': [True, False], 'min_samples_leaf': [1, 2, 4], 'n_estimators': [200, 400, 600, 800, 1000, 1200, 1400, 1600, 1800, 2000], 'min_samples_split': [2, 5, 10], 'max_features': ['auto', 'sqrt'], 'max_depth': [10, 20, 30, 40, 50, 60, 70, 80, 90, 100, 110, None]},\n",
       "          pre_dispatch='2*n_jobs', random_state=42, refit=True,\n",
       "          return_train_score=True, scoring=None, verbose=2)"
      ]
     },
     "execution_count": 131,
     "metadata": {},
     "output_type": "execute_result"
    }
   ],
   "source": [
    "# Use the random grid to search for best hyperparameters\n",
    "# First create the base model to tune\n",
    "rf = RandomForestClassifier()\n",
    "# Random search of parameters, using 3 fold cross validation, \n",
    "# search across 100 different combinations, and use all available cores\n",
    "rf_random = RandomizedSearchCV(estimator = rf, param_distributions = random_grid, n_iter = 6, cv = 5, verbose=2, random_state=42, n_jobs = -1)\n",
    "# Fit the random search model\n",
    "rf_random.fit(X_train, y_train.values.ravel())"
   ]
  },
  {
   "cell_type": "code",
   "execution_count": 132,
   "metadata": {},
   "outputs": [
    {
     "data": {
      "text/plain": [
       "{'bootstrap': False,\n",
       " 'max_depth': 60,\n",
       " 'max_features': 'sqrt',\n",
       " 'min_samples_leaf': 1,\n",
       " 'min_samples_split': 10,\n",
       " 'n_estimators': 400}"
      ]
     },
     "execution_count": 132,
     "metadata": {},
     "output_type": "execute_result"
    }
   ],
   "source": [
    "rf_random.best_params_"
   ]
  },
  {
   "cell_type": "code",
   "execution_count": 136,
   "metadata": {},
   "outputs": [
    {
     "data": {
      "text/plain": [
       "0.8441558441558441"
      ]
     },
     "execution_count": 136,
     "metadata": {},
     "output_type": "execute_result"
    }
   ],
   "source": [
    "best_random = rf_random.best_estimator_\n",
    "y_pred = best_random.predict(X_test)\n",
    "recall_score(y_test,y_pred)"
   ]
  },
  {
   "cell_type": "code",
   "execution_count": null,
   "metadata": {},
   "outputs": [],
   "source": []
  },
  {
   "cell_type": "code",
   "execution_count": null,
   "metadata": {},
   "outputs": [],
   "source": []
  }
 ],
 "metadata": {
  "kernelspec": {
   "display_name": "Python 2",
   "language": "python",
   "name": "python2"
  },
  "language_info": {
   "codemirror_mode": {
    "name": "ipython",
    "version": 2
   },
   "file_extension": ".py",
   "mimetype": "text/x-python",
   "name": "python",
   "nbconvert_exporter": "python",
   "pygments_lexer": "ipython2",
   "version": "2.7.10"
  }
 },
 "nbformat": 4,
 "nbformat_minor": 2
}
