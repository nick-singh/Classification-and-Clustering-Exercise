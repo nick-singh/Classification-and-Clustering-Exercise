{
 "cells": [
  {
   "cell_type": "raw",
   "metadata": {},
   "source": [
    "02766851\n",
    "Kevin Blake-Thomas\n",
    "COMP6940\n",
    "Assignment 2"
   ]
  },
  {
   "cell_type": "markdown",
   "metadata": {},
   "source": [
    "QUESTION 1"
   ]
  },
  {
   "cell_type": "code",
   "execution_count": 1,
   "metadata": {},
   "outputs": [],
   "source": [
    "%matplotlib inline\n",
    "from time import time\n",
    "\n",
    "import pandas as pd\n",
    "import matplotlib.pyplot as plt\n",
    "import seaborn as sns\n",
    "import numpy as np\n",
    "\n",
    "\n",
    "from sklearn.decomposition import PCA\n",
    "from sklearn.ensemble import RandomForestClassifier\n",
    "\n",
    "from sklearn.metrics import accuracy_score, classification_report\n",
    "from sklearn.model_selection import train_test_split, RandomizedSearchCV\n",
    "from sklearn.model_selection import KFold, cross_val_score\n",
    "\n",
    "from sklearn.neighbors import KNeighborsClassifier\n",
    "\n",
    "from sklearn.preprocessing import LabelBinarizer, LabelEncoder, OneHotEncoder, StandardScaler, MinMaxScaler\n",
    "\n",
    "from scipy.stats import randint\n",
    "\n"
   ]
  },
  {
   "cell_type": "markdown",
   "metadata": {},
   "source": [
    "Before we can dive into the fun stuff, we must first load in the dataset\n",
    "The data is stored in a folder called \"data\" as a comma-separated text file."
   ]
  },
  {
   "cell_type": "code",
   "execution_count": 2,
   "metadata": {
    "collapsed": true
   },
   "outputs": [],
   "source": [
    "df = pd.read_csv('./data.csv')"
   ]
  },
  {
   "cell_type": "markdown",
   "metadata": {},
   "source": [
    "Data has been loaded from the CSV file and now available for processing.\n",
    "\n",
    "Now that we have the data in memory, let's take a look at the size of the\n",
    "data, namely the number of rows and columns."
   ]
  },
  {
   "cell_type": "code",
   "execution_count": 3,
   "metadata": {},
   "outputs": [
    {
     "data": {
      "text/plain": [
       "(689, 16)"
      ]
     },
     "execution_count": 3,
     "metadata": {},
     "output_type": "execute_result"
    }
   ],
   "source": [
    "df.shape"
   ]
  },
  {
   "cell_type": "markdown",
   "metadata": {},
   "source": [
    "There are 689 rows - For the purpose of this assignment, we shall interpert this\n",
    "as 689 credit card applications submissions\n",
    "\n",
    "There are 16 columns - For the purpose of this assignment, we shall interpert this\n",
    "as possible different bio, demograophic and other criteria specific to the credit card application asked for each of the users applying. "
   ]
  },
  {
   "cell_type": "markdown",
   "metadata": {},
   "source": [
    "Let's get a sense of the dimensions/features being tracked by looking into the data types"
   ]
  },
  {
   "cell_type": "code",
   "execution_count": 4,
   "metadata": {},
   "outputs": [
    {
     "data": {
      "text/plain": [
       "b         object\n",
       "30.83     object\n",
       "0        float64\n",
       "u         object\n",
       "g         object\n",
       "w         object\n",
       "v         object\n",
       "1.25     float64\n",
       "t         object\n",
       "t.1       object\n",
       "01         int64\n",
       "f         object\n",
       "g.1       object\n",
       "00202     object\n",
       "0.1        int64\n",
       "+         object\n",
       "dtype: object"
      ]
     },
     "execution_count": 4,
     "metadata": {},
     "output_type": "execute_result"
    }
   ],
   "source": [
    "df.dtypes"
   ]
  },
  {
   "cell_type": "markdown",
   "metadata": {},
   "source": [
    "We see two (2) data type of int64 (i.e. an integer), two (2) of float64 (i.e. decimals) and the remaining twelve (12) are of type object.\n",
    "\n",
    "For the reamining fields, the data type of object is not immediately helpful as this can represent textual types of content. There is even the possibility that data could be missing/corrupt/invalid as well.\n",
    "\n",
    "Let's now get a sense of the quality of data (e.g. consistency, valid content values/ranges, etc.)\n",
    "\n",
    "We begin this process by taking a peek of the data set for some inspections to get a sense."
   ]
  },
  {
   "cell_type": "code",
   "execution_count": 5,
   "metadata": {},
   "outputs": [
    {
     "data": {
      "text/html": [
       "<div>\n",
       "<style>\n",
       "    .dataframe thead tr:only-child th {\n",
       "        text-align: right;\n",
       "    }\n",
       "\n",
       "    .dataframe thead th {\n",
       "        text-align: left;\n",
       "    }\n",
       "\n",
       "    .dataframe tbody tr th {\n",
       "        vertical-align: top;\n",
       "    }\n",
       "</style>\n",
       "<table border=\"1\" class=\"dataframe\">\n",
       "  <thead>\n",
       "    <tr style=\"text-align: right;\">\n",
       "      <th></th>\n",
       "      <th>b</th>\n",
       "      <th>30.83</th>\n",
       "      <th>0</th>\n",
       "      <th>u</th>\n",
       "      <th>g</th>\n",
       "      <th>w</th>\n",
       "      <th>v</th>\n",
       "      <th>1.25</th>\n",
       "      <th>t</th>\n",
       "      <th>t.1</th>\n",
       "      <th>01</th>\n",
       "      <th>f</th>\n",
       "      <th>g.1</th>\n",
       "      <th>00202</th>\n",
       "      <th>0.1</th>\n",
       "      <th>+</th>\n",
       "    </tr>\n",
       "  </thead>\n",
       "  <tbody>\n",
       "    <tr>\n",
       "      <th>0</th>\n",
       "      <td>a</td>\n",
       "      <td>58.67</td>\n",
       "      <td>4.460</td>\n",
       "      <td>u</td>\n",
       "      <td>g</td>\n",
       "      <td>q</td>\n",
       "      <td>h</td>\n",
       "      <td>3.04</td>\n",
       "      <td>t</td>\n",
       "      <td>t</td>\n",
       "      <td>6</td>\n",
       "      <td>f</td>\n",
       "      <td>g</td>\n",
       "      <td>00043</td>\n",
       "      <td>560</td>\n",
       "      <td>+</td>\n",
       "    </tr>\n",
       "    <tr>\n",
       "      <th>1</th>\n",
       "      <td>a</td>\n",
       "      <td>24.50</td>\n",
       "      <td>0.500</td>\n",
       "      <td>u</td>\n",
       "      <td>g</td>\n",
       "      <td>q</td>\n",
       "      <td>h</td>\n",
       "      <td>1.50</td>\n",
       "      <td>t</td>\n",
       "      <td>f</td>\n",
       "      <td>0</td>\n",
       "      <td>f</td>\n",
       "      <td>g</td>\n",
       "      <td>00280</td>\n",
       "      <td>824</td>\n",
       "      <td>+</td>\n",
       "    </tr>\n",
       "    <tr>\n",
       "      <th>2</th>\n",
       "      <td>b</td>\n",
       "      <td>27.83</td>\n",
       "      <td>1.540</td>\n",
       "      <td>u</td>\n",
       "      <td>g</td>\n",
       "      <td>w</td>\n",
       "      <td>v</td>\n",
       "      <td>3.75</td>\n",
       "      <td>t</td>\n",
       "      <td>t</td>\n",
       "      <td>5</td>\n",
       "      <td>t</td>\n",
       "      <td>g</td>\n",
       "      <td>00100</td>\n",
       "      <td>3</td>\n",
       "      <td>+</td>\n",
       "    </tr>\n",
       "    <tr>\n",
       "      <th>3</th>\n",
       "      <td>b</td>\n",
       "      <td>20.17</td>\n",
       "      <td>5.625</td>\n",
       "      <td>u</td>\n",
       "      <td>g</td>\n",
       "      <td>w</td>\n",
       "      <td>v</td>\n",
       "      <td>1.71</td>\n",
       "      <td>t</td>\n",
       "      <td>f</td>\n",
       "      <td>0</td>\n",
       "      <td>f</td>\n",
       "      <td>s</td>\n",
       "      <td>00120</td>\n",
       "      <td>0</td>\n",
       "      <td>+</td>\n",
       "    </tr>\n",
       "    <tr>\n",
       "      <th>4</th>\n",
       "      <td>b</td>\n",
       "      <td>32.08</td>\n",
       "      <td>4.000</td>\n",
       "      <td>u</td>\n",
       "      <td>g</td>\n",
       "      <td>m</td>\n",
       "      <td>v</td>\n",
       "      <td>2.50</td>\n",
       "      <td>t</td>\n",
       "      <td>f</td>\n",
       "      <td>0</td>\n",
       "      <td>t</td>\n",
       "      <td>g</td>\n",
       "      <td>00360</td>\n",
       "      <td>0</td>\n",
       "      <td>+</td>\n",
       "    </tr>\n",
       "  </tbody>\n",
       "</table>\n",
       "</div>"
      ],
      "text/plain": [
       "   b  30.83      0  u  g  w  v  1.25  t t.1  01  f g.1  00202  0.1  +\n",
       "0  a  58.67  4.460  u  g  q  h  3.04  t   t   6  f   g  00043  560  +\n",
       "1  a  24.50  0.500  u  g  q  h  1.50  t   f   0  f   g  00280  824  +\n",
       "2  b  27.83  1.540  u  g  w  v  3.75  t   t   5  t   g  00100    3  +\n",
       "3  b  20.17  5.625  u  g  w  v  1.71  t   f   0  f   s  00120    0  +\n",
       "4  b  32.08  4.000  u  g  m  v  2.50  t   f   0  t   g  00360    0  +"
      ]
     },
     "execution_count": 5,
     "metadata": {},
     "output_type": "execute_result"
    }
   ],
   "source": [
    "df.head()"
   ]
  },
  {
   "cell_type": "markdown",
   "metadata": {},
   "source": [
    "From the peek above, we see that most of the object data type fields seems to have a fixed set of values and as such are good candidates for categorical values.\n",
    "\n",
    "Let's find out if there any columns with all rows with missing data. Then let's find out which columns have at least 1 row with missing data (via the use of NaN)."
   ]
  },
  {
   "cell_type": "code",
   "execution_count": 6,
   "metadata": {},
   "outputs": [
    {
     "data": {
      "text/plain": [
       "Index([], dtype='object')"
      ]
     },
     "execution_count": 6,
     "metadata": {},
     "output_type": "execute_result"
    }
   ],
   "source": [
    "all_nan_cols = df.columns[df.isnull().all()]\n",
    "all_nan_cols"
   ]
  },
  {
   "cell_type": "code",
   "execution_count": 7,
   "metadata": {},
   "outputs": [
    {
     "data": {
      "text/plain": [
       "Index([], dtype='object')"
      ]
     },
     "execution_count": 7,
     "metadata": {},
     "output_type": "execute_result"
    }
   ],
   "source": [
    "any_nan_cols = df.columns[df.isnull().any()]\n",
    "any_nan_cols"
   ]
  },
  {
   "cell_type": "markdown",
   "metadata": {},
   "source": [
    "Let's take a peak at each of the columns and get a sense of the range of values each contain and look for any anomolies"
   ]
  },
  {
   "cell_type": "code",
   "execution_count": 8,
   "metadata": {},
   "outputs": [
    {
     "name": "stdout",
     "output_type": "stream",
     "text": [
      "count     689\n",
      "unique      3\n",
      "top         b\n",
      "freq      467\n",
      "Name: b, dtype: object\n",
      "['a' 'b' '?']\n",
      "\n",
      "count     689\n",
      "unique    349\n",
      "top         ?\n",
      "freq       12\n",
      "Name: 30.83, dtype: object\n",
      "['58.67' '24.50' '27.83' '20.17' '32.08' '33.17' '22.92' '54.42' '42.50'\n",
      " '22.08' '29.92' '38.25' '48.08' '45.83' '36.67' '28.25' '23.25' '21.83'\n",
      " '19.17' '25.00' '47.75' '27.42' '41.17' '15.83' '47.00' '56.58' '57.42'\n",
      " '42.08' '29.25' '42.00' '49.50' '36.75' '22.58' '27.25' '23.00' '27.75'\n",
      " '54.58' '34.17' '28.92' '29.67' '39.58' '56.42' '54.33' '41.00' '31.92'\n",
      " '41.50' '23.92' '25.75' '26.00' '37.42' '34.92' '34.25' '23.33' '23.17'\n",
      " '44.33' '35.17' '43.25' '56.75' '31.67' '23.42' '20.42' '26.67' '36.00'\n",
      " '25.50' '19.42' '32.33' '34.83' '38.58' '44.25' '44.83' '20.67' '34.08'\n",
      " '21.67' '21.50' '49.58' '27.67' '39.83' '?' '37.17' '25.67' '34.00'\n",
      " '49.00' '62.50' '31.42' '52.33' '28.75' '28.58' '22.50' '28.50' '37.50'\n",
      " '35.25' '18.67' '54.83' '40.92' '19.75' '29.17' '24.58' '33.75' '25.42'\n",
      " '37.75' '52.50' '57.83' '20.75' '39.92' '24.75' '44.17' '23.50' '47.67'\n",
      " '22.75' '34.42' '28.42' '67.75' '47.42' '36.25' '32.67' '48.58' '33.58'\n",
      " '18.83' '26.92' '31.25' '56.50' '43.00' '22.33' '32.83' '40.33' '30.50'\n",
      " '52.83' '46.67' '58.33' '37.33' '23.08' '32.75' '68.67' '28.00' '44.00'\n",
      " '25.08' '32.00' '60.58' '40.83' '19.33' '41.33' '56.00' '49.83' '22.67'\n",
      " '27.00' '26.08' '18.42' '21.25' '57.08' '22.42' '48.75' '40.00' '40.58'\n",
      " '28.67' '33.08' '21.33' '41.75' '34.50' '48.17' '27.58' '24.08' '24.83'\n",
      " '36.33' '35.42' '71.58' '39.50' '39.33' '24.33' '60.08' '55.92' '53.92'\n",
      " '18.92' '50.08' '65.42' '17.58' '18.08' '19.67' '25.17' '33.50' '58.42'\n",
      " '26.17' '42.83' '38.17' '20.50' '48.25' '28.33' '18.75' '18.50' '45.00'\n",
      " '40.25' '41.42' '17.83' '18.17' '20.00' '52.17' '50.75' '17.08' '18.33'\n",
      " '59.67' '18.00' '37.58' '30.67' '18.58' '16.25' '21.17' '17.67' '16.50'\n",
      " '29.50' '21.75' '18.25' '35.75' '16.08' '69.17' '32.92' '16.33' '22.17'\n",
      " '57.58' '15.92' '31.75' '19.00' '17.50' '33.67' '30.17' '33.25' '25.25'\n",
      " '34.75' '47.33' '39.08' '42.75' '38.92' '62.75' '32.25' '26.75' '63.33'\n",
      " '30.75' '16.00' '19.50' '32.42' '30.25' '26.83' '16.92' '24.42' '39.42'\n",
      " '23.58' '21.42' '33.00' '26.33' '26.25' '28.17' '20.83' '43.17' '56.83'\n",
      " '15.17' '29.83' '31.00' '51.92' '69.50' '19.58' '22.25' '38.42' '26.58'\n",
      " '35.00' '29.42' '49.17' '51.83' '58.58' '53.33' '27.17' '25.92' '30.58'\n",
      " '17.25' '27.33' '36.50' '29.75' '52.42' '36.17' '34.58' '21.92' '36.58'\n",
      " '31.08' '30.42' '21.08' '17.42' '39.17' '26.50' '17.33' '23.75' '34.67'\n",
      " '74.83' '45.33' '47.25' '24.17' '39.25' '39.00' '64.08' '31.33' '21.00'\n",
      " '13.75' '46.00' '20.25' '60.92' '30.00' '22.83' '45.17' '41.58' '55.75'\n",
      " '25.33' '31.83' '33.92' '24.92' '80.25' '30.08' '48.33' '76.75' '51.33'\n",
      " '41.92' '29.58' '32.17' '51.42' '42.17' '43.08' '59.50' '65.17' '20.33'\n",
      " '48.50' '28.08' '73.42' '51.58' '38.67' '46.08' '20.08' '42.25' '16.17'\n",
      " '47.83' '22.00' '38.33' '25.58' '21.58' '36.08' '38.75' '35.58' '31.58'\n",
      " '15.75' '17.92' '30.33' '47.17' '25.83' '50.25' '36.42']\n",
      "\n",
      "count    689.000000\n",
      "mean       4.765631\n",
      "std        4.978470\n",
      "min        0.000000\n",
      "25%        1.000000\n",
      "50%        2.750000\n",
      "75%        7.250000\n",
      "max       28.000000\n",
      "Name: 0, dtype: float64\n",
      "[  4.46    0.5     1.54    5.625   4.      1.04   11.585   4.915   0.83\n",
      "   1.835   6.      6.04   10.5     4.415   0.875   5.875   0.25    8.585\n",
      "  11.25    1.      8.     14.5     6.5     0.585  13.     18.5     8.5\n",
      "  14.79    9.79    7.585   5.125  10.75    1.5     1.585  11.75    9.415\n",
      "   9.17   15.      1.415  13.915  28.      6.75    2.04    0.665   2.5     3.\n",
      "  11.625   0.      4.5    12.25   16.165   0.79    0.835   4.25    0.375\n",
      "  25.125   7.5     5.      7.      5.29    1.165   9.75   19.      3.5\n",
      "   0.625   2.21   12.75   15.5     1.375   3.54   11.      1.75   16.5    12.\n",
      "   2.25    0.75   12.5     1.25    1.125   7.04   10.335   6.21    6.665\n",
      "   9.      5.5     0.54    2.75    9.5    13.5     3.75   16.      0.29\n",
      "   1.665   7.54    0.46   10.     11.5     3.04    2.      0.08    1.71\n",
      "   3.25    2.54   13.585   8.665   9.25    8.17    2.335  19.5     5.665\n",
      "   4.625   0.205   0.96    4.04    5.04    3.165   7.625  10.04   10.25\n",
      "   2.125   9.335   6.625   2.71    9.625  12.54    9.54    8.46   13.75\n",
      "  21.     10.125  25.085   0.21   21.5    11.125  11.045   1.335   0.085\n",
      "   1.21    0.165   5.71    5.415  12.625   0.58    0.415   2.415   0.335\n",
      "   3.125  12.125   2.875  13.665  26.335  10.29    1.29   22.      0.125\n",
      "   1.085   4.085   4.71    6.165   4.585  11.46   14.585   0.17    1.625\n",
      "   2.085   5.085   8.125   2.835   1.79    0.705   2.165   2.29   18.125\n",
      "   3.085  11.665   4.125   1.08   13.335  11.835   4.79    9.96    7.08\n",
      "  25.21    0.67    3.79   22.29    3.335   0.42    1.46    0.04   12.33\n",
      "  12.335   0.915  14.     17.75   20.      5.25    4.165  10.915   4.75\n",
      "  10.415   7.835   0.71    2.46    9.585   3.625   2.665   5.835  12.835\n",
      "  10.665   7.25   10.21    3.29   10.085   3.375]\n",
      "\n",
      "count     689\n",
      "unique      4\n",
      "top         u\n",
      "freq      518\n",
      "Name: u, dtype: object\n",
      "['u' 'y' '?' 'l']\n",
      "\n",
      "count     689\n",
      "unique      4\n",
      "top         g\n",
      "freq      518\n",
      "Name: g, dtype: object\n",
      "['g' 'p' '?' 'gg']\n",
      "\n",
      "count     689\n",
      "unique     15\n",
      "top         c\n",
      "freq      137\n",
      "Name: w, dtype: object\n",
      "['q' 'w' 'm' 'r' 'cc' 'k' 'c' 'd' 'x' 'i' 'e' 'aa' 'ff' 'j' '?']\n",
      "\n",
      "count     689\n",
      "unique     10\n",
      "top         v\n",
      "freq      398\n",
      "Name: v, dtype: object\n",
      "['h' 'v' 'bb' 'ff' 'j' 'z' '?' 'o' 'dd' 'n']\n",
      "\n",
      "count    689.000000\n",
      "mean       2.224819\n",
      "std        3.348739\n",
      "min        0.000000\n",
      "25%        0.165000\n",
      "50%        1.000000\n",
      "75%        2.625000\n",
      "max       28.500000\n",
      "Name: 1.25, dtype: float64\n",
      "[  3.04    1.5     3.75    1.71    2.5     6.5     0.04    3.96    3.165\n",
      "   2.165   4.335   1.      5.      0.25    0.96    3.17    0.665   0.75\n",
      "   0.835   7.875   3.085   0.5     5.165  15.      7.      5.04    7.96\n",
      "   7.585   0.415   2.      1.835  14.415   4.5     5.335   8.625  28.5\n",
      "   2.625   0.125   6.04    3.5     0.165   0.875   1.75    0.      7.415\n",
      "   0.085   5.75    6.      1.25    3.      1.585   4.29    1.54    1.46\n",
      "   1.625  12.5    13.5    10.75    0.375   0.585   0.455   4.      8.5\n",
      "   9.46    2.25   10.      0.795   1.375   1.29   11.5     6.29   14.\n",
      "   0.335   1.21    7.375   7.5     3.25   13.      5.5     4.25    0.625\n",
      "   5.085   2.75    2.375   8.      1.085   2.54    4.165   1.665  11.      9.\n",
      "   1.335   1.415   1.96    2.585   5.125  15.5     0.71    5.665  18.\n",
      "   5.25    8.665   2.29   20.      2.46   13.875   2.085   4.58    2.71\n",
      "   2.04    0.29    4.75    0.46    0.21    0.54    3.335   2.335   1.165\n",
      "   2.415   2.79    4.625   1.04    6.75    1.875  16.     12.75    5.375\n",
      "   2.125  17.5     3.125   0.79    8.29 ]\n",
      "\n",
      "count     689\n",
      "unique      2\n",
      "top         t\n",
      "freq      360\n",
      "Name: t, dtype: object\n",
      "['t' 'f']\n",
      "\n",
      "count     689\n",
      "unique      2\n",
      "top         f\n",
      "freq      395\n",
      "Name: t.1, dtype: object\n",
      "['t' 'f']\n",
      "\n",
      "count    689.000000\n",
      "mean       2.402032\n",
      "std        4.866180\n",
      "min        0.000000\n",
      "25%        0.000000\n",
      "50%        0.000000\n",
      "75%        3.000000\n",
      "max       67.000000\n",
      "Name: 01, dtype: float64\n",
      "[ 6  0  5  7 10  3 17  1  2  9  8 15 11 12 40 23  4 20 67 14 16 13 19]\n",
      "\n",
      "count     689\n",
      "unique      2\n",
      "top         f\n",
      "freq      373\n",
      "Name: f, dtype: object\n",
      "['f' 't']\n",
      "\n",
      "count     689\n",
      "unique      3\n",
      "top         g\n",
      "freq      624\n",
      "Name: g.1, dtype: object\n",
      "['g' 's' 'p']\n",
      "\n",
      "count       689\n",
      "unique      170\n",
      "top       00000\n",
      "freq        132\n",
      "Name: 00202, dtype: object\n",
      "['00043' '00280' '00100' '00120' '00360' '00164' '00080' '00180' '00052'\n",
      " '00128' '00260' '00000' '00320' '00396' '00096' '00200' '00300' '00145'\n",
      " '00500' '00168' '00434' '00583' '00030' '00240' '00070' '00455' '00311'\n",
      " '00216' '00491' '00400' '00239' '00160' '00711' '00250' '00520' '00515'\n",
      " '00420' '?' '00980' '00443' '00140' '00094' '00368' '00288' '00928'\n",
      " '00188' '00112' '00171' '00268' '00167' '00075' '00152' '00176' '00329'\n",
      " '00212' '00410' '00274' '00375' '00408' '00350' '00204' '00040' '00181'\n",
      " '00399' '00440' '00093' '00060' '00395' '00393' '00021' '00029' '00102'\n",
      " '00431' '00370' '00024' '00020' '00129' '00510' '00195' '00144' '00380'\n",
      " '00049' '00050' '00381' '00150' '00117' '00056' '00211' '00230' '00156'\n",
      " '00022' '00228' '00519' '00253' '00487' '00220' '00088' '00073' '00121'\n",
      " '00470' '00136' '00132' '00292' '00154' '00272' '00340' '00108' '00720'\n",
      " '00450' '00232' '00170' '01160' '00411' '00460' '00348' '00480' '00640'\n",
      " '00372' '00276' '00221' '00352' '00141' '00178' '00600' '00550' '02000'\n",
      " '00225' '00210' '00110' '00356' '00045' '00062' '00092' '00174' '00017'\n",
      " '00086' '00454' '00254' '00028' '00263' '00333' '00312' '00290' '00371'\n",
      " '00099' '00252' '00760' '00560' '00130' '00523' '00680' '00163' '00208'\n",
      " '00383' '00330' '00422' '00840' '00432' '00032' '00186' '00303' '00349'\n",
      " '00224' '00369' '00076' '00231' '00309' '00416' '00465' '00256']\n",
      "\n",
      "count       689.000000\n",
      "mean       1018.862119\n",
      "std        5213.743149\n",
      "min           0.000000\n",
      "25%           0.000000\n",
      "50%           5.000000\n",
      "75%         396.000000\n",
      "max      100000.000000\n",
      "Name: 0.1, dtype: float64\n",
      "[   560    824      3      0  31285   1349    314   1442    200   2690\n",
      "    245   1208   1260     11  10000   5000   4000     35    713    551\n",
      "    500    300    221   2283    100     15    284   1236   5800    730\n",
      "    400  50000    456  15108   2954      2     20     27    225      1\n",
      "     38      5    130    147    210  11202   1332     50    258    567\n",
      "   1000   2510    809    610    150  51100    367    600    247    375\n",
      "    278    827   2072    582   2300   3065   2200      6   1602   2184\n",
      "   3376   2000   7544  10561    837  11177    639   2028   1065    540\n",
      "    158  15000   3000   3257   1655   1430      7    790    396    678\n",
      "   1187   6590    168   1270   1210    742   8851   7059   1704    857\n",
      "   6700   2503   9800    196     14  26726  18027     99    444   1200\n",
      "   2010     13    120     32    722     40    484    204     98   5552\n",
      "    105   2803    126      4     21    173     10     25     42 100000\n",
      "    113      8     44   2732    179     16   1062    251    228     67\n",
      "     12    122   4208   1300    112   1110   1004    286   4500   1212\n",
      "    195     87     17    184    140     18    146     22     55     70\n",
      "     60   1058    769   5200     19    316    350   3552    687   1950\n",
      "     53     41     33     80    351   2100    475    892   4607   2206\n",
      "   5860     28   1391   2279    591    960    690    234    800    990\n",
      "   2197     90    340    347    327   4071    109   1249    134   1344\n",
      "    321    948   2079   2384    458   5298    162   1583     58     59\n",
      "   1400   1465   8000   4700   1097   3290  13212   5777   5124     23\n",
      "   4159    918    768    283    108      9     68    587    141    501\n",
      "    160    390    154    117    246    237    364    537    394    750]\n",
      "\n",
      "count     689\n",
      "unique      2\n",
      "top         -\n",
      "freq      383\n",
      "Name: +, dtype: object\n",
      "['+' '-']\n",
      "\n"
     ]
    }
   ],
   "source": [
    "for col in df.columns:\n",
    "    print(df[col].describe())\n",
    "    print(df[col].unique())\n",
    "    print()"
   ]
  },
  {
   "cell_type": "markdown",
   "metadata": {},
   "source": [
    "We see that there are a lot of columns which fixed range values (categorical) and there are continuous fields as well.\n",
    "\n",
    "Furthermore, we see there are some columns which contain '?' character. We can consider this as missing data.\n",
    "\n",
    "We also see the last column contains '+' (approved) and '-' (declined) values. This column will serve as our truth label column. We'll evnetually remove this column from the data set.\n",
    "\n",
    "Let's determine which columns which contain '?' values"
   ]
  },
  {
   "cell_type": "code",
   "execution_count": 9,
   "metadata": {},
   "outputs": [
    {
     "data": {
      "text/plain": [
       "['b', '30.83', 'u', 'g', 'w', 'v', '00202']"
      ]
     },
     "execution_count": 9,
     "metadata": {},
     "output_type": "execute_result"
    }
   ],
   "source": [
    "missing_value_cols = list(df.columns[df.isin(['?']).any()])\n",
    "missing_value_cols"
   ]
  },
  {
   "cell_type": "markdown",
   "metadata": {},
   "source": [
    "Let's convert the '?' character in each of the columns above to NaN"
   ]
  },
  {
   "cell_type": "code",
   "execution_count": 10,
   "metadata": {
    "collapsed": true
   },
   "outputs": [],
   "source": [
    "df[missing_value_cols] = df[missing_value_cols].replace('?', np.NaN)"
   ]
  },
  {
   "cell_type": "markdown",
   "metadata": {},
   "source": [
    "Next we are going to perform imputing and data type conversion for each of the columns above.\n",
    "\n",
    "First off we create a new array which will be of the same length and each element will represent the desired data type the coloum should be treated as.\n",
    "\n",
    "Based on inspection there's a pattern for infering data types\n",
    "1. columns starting with a letter character a plus the last column are categorical\n",
    "2. columns containing a decimal point are floats\n",
    "3. columns remaining are ints\n",
    "\n",
    "So any field beinging with a letter, we'll treat it as an 'object', any column names with '.' character will be treated as a float and the rest will be treated as integer\n",
    "\n",
    "We shall also replace, the NaN values in each column with the most frequent used value for the given column. For example based on value_counts above, we see column named 'b' the most frequent value is 'b'. So for each NaN in column 'b' will be replaced with 'b' as the value. The process is repeat for each column."
   ]
  },
  {
   "cell_type": "code",
   "execution_count": 11,
   "metadata": {},
   "outputs": [
    {
     "data": {
      "text/html": [
       "<div>\n",
       "<style>\n",
       "    .dataframe thead tr:only-child th {\n",
       "        text-align: right;\n",
       "    }\n",
       "\n",
       "    .dataframe thead th {\n",
       "        text-align: left;\n",
       "    }\n",
       "\n",
       "    .dataframe tbody tr th {\n",
       "        vertical-align: top;\n",
       "    }\n",
       "</style>\n",
       "<table border=\"1\" class=\"dataframe\">\n",
       "  <thead>\n",
       "    <tr style=\"text-align: right;\">\n",
       "      <th></th>\n",
       "      <th>b</th>\n",
       "      <th>30.83</th>\n",
       "      <th>0</th>\n",
       "      <th>u</th>\n",
       "      <th>g</th>\n",
       "      <th>w</th>\n",
       "      <th>v</th>\n",
       "      <th>1.25</th>\n",
       "      <th>t</th>\n",
       "      <th>t.1</th>\n",
       "      <th>01</th>\n",
       "      <th>f</th>\n",
       "      <th>g.1</th>\n",
       "      <th>00202</th>\n",
       "      <th>0.1</th>\n",
       "      <th>+</th>\n",
       "    </tr>\n",
       "  </thead>\n",
       "  <tbody>\n",
       "    <tr>\n",
       "      <th>0</th>\n",
       "      <td>a</td>\n",
       "      <td>58.67</td>\n",
       "      <td>4.460</td>\n",
       "      <td>u</td>\n",
       "      <td>g</td>\n",
       "      <td>q</td>\n",
       "      <td>h</td>\n",
       "      <td>3.04</td>\n",
       "      <td>t</td>\n",
       "      <td>t</td>\n",
       "      <td>6</td>\n",
       "      <td>f</td>\n",
       "      <td>g</td>\n",
       "      <td>43</td>\n",
       "      <td>560</td>\n",
       "      <td>+</td>\n",
       "    </tr>\n",
       "    <tr>\n",
       "      <th>1</th>\n",
       "      <td>a</td>\n",
       "      <td>24.50</td>\n",
       "      <td>0.500</td>\n",
       "      <td>u</td>\n",
       "      <td>g</td>\n",
       "      <td>q</td>\n",
       "      <td>h</td>\n",
       "      <td>1.50</td>\n",
       "      <td>t</td>\n",
       "      <td>f</td>\n",
       "      <td>0</td>\n",
       "      <td>f</td>\n",
       "      <td>g</td>\n",
       "      <td>280</td>\n",
       "      <td>824</td>\n",
       "      <td>+</td>\n",
       "    </tr>\n",
       "    <tr>\n",
       "      <th>2</th>\n",
       "      <td>b</td>\n",
       "      <td>27.83</td>\n",
       "      <td>1.540</td>\n",
       "      <td>u</td>\n",
       "      <td>g</td>\n",
       "      <td>w</td>\n",
       "      <td>v</td>\n",
       "      <td>3.75</td>\n",
       "      <td>t</td>\n",
       "      <td>t</td>\n",
       "      <td>5</td>\n",
       "      <td>t</td>\n",
       "      <td>g</td>\n",
       "      <td>100</td>\n",
       "      <td>3</td>\n",
       "      <td>+</td>\n",
       "    </tr>\n",
       "    <tr>\n",
       "      <th>3</th>\n",
       "      <td>b</td>\n",
       "      <td>20.17</td>\n",
       "      <td>5.625</td>\n",
       "      <td>u</td>\n",
       "      <td>g</td>\n",
       "      <td>w</td>\n",
       "      <td>v</td>\n",
       "      <td>1.71</td>\n",
       "      <td>t</td>\n",
       "      <td>f</td>\n",
       "      <td>0</td>\n",
       "      <td>f</td>\n",
       "      <td>s</td>\n",
       "      <td>120</td>\n",
       "      <td>0</td>\n",
       "      <td>+</td>\n",
       "    </tr>\n",
       "    <tr>\n",
       "      <th>4</th>\n",
       "      <td>b</td>\n",
       "      <td>32.08</td>\n",
       "      <td>4.000</td>\n",
       "      <td>u</td>\n",
       "      <td>g</td>\n",
       "      <td>m</td>\n",
       "      <td>v</td>\n",
       "      <td>2.50</td>\n",
       "      <td>t</td>\n",
       "      <td>f</td>\n",
       "      <td>0</td>\n",
       "      <td>t</td>\n",
       "      <td>g</td>\n",
       "      <td>360</td>\n",
       "      <td>0</td>\n",
       "      <td>+</td>\n",
       "    </tr>\n",
       "  </tbody>\n",
       "</table>\n",
       "</div>"
      ],
      "text/plain": [
       "   b  30.83      0  u  g  w  v  1.25  t t.1  01  f g.1  00202  0.1  +\n",
       "0  a  58.67  4.460  u  g  q  h  3.04  t   t   6  f   g     43  560  +\n",
       "1  a  24.50  0.500  u  g  q  h  1.50  t   f   0  f   g    280  824  +\n",
       "2  b  27.83  1.540  u  g  w  v  3.75  t   t   5  t   g    100    3  +\n",
       "3  b  20.17  5.625  u  g  w  v  1.71  t   f   0  f   s    120    0  +\n",
       "4  b  32.08  4.000  u  g  m  v  2.50  t   f   0  t   g    360    0  +"
      ]
     },
     "execution_count": 11,
     "metadata": {},
     "output_type": "execute_result"
    }
   ],
   "source": [
    "types = ['object' if item[0].isalpha() else ('float' if '.' in item else 'int') for item in missing_value_cols]\n",
    "for index, col in enumerate(missing_value_cols):\n",
    "    most_freq = df[col].value_counts().idxmax()\n",
    "    df[col] = df[col].fillna(most_freq).astype(types[index])\n",
    "df.head()"
   ]
  },
  {
   "cell_type": "code",
   "execution_count": 12,
   "metadata": {},
   "outputs": [
    {
     "name": "stdout",
     "output_type": "stream",
     "text": [
      "[]\n",
      "Index([], dtype='object')\n"
     ]
    }
   ],
   "source": [
    "print(list(df.columns[df.isin(['?']).any()]))\n",
    "print(df.columns[df.isnull().any()])"
   ]
  },
  {
   "cell_type": "markdown",
   "metadata": {},
   "source": [
    "Let's see the updated data types now"
   ]
  },
  {
   "cell_type": "code",
   "execution_count": 13,
   "metadata": {},
   "outputs": [
    {
     "data": {
      "text/plain": [
       "b         object\n",
       "30.83    float64\n",
       "0        float64\n",
       "u         object\n",
       "g         object\n",
       "w         object\n",
       "v         object\n",
       "1.25     float64\n",
       "t         object\n",
       "t.1       object\n",
       "01         int64\n",
       "f         object\n",
       "g.1       object\n",
       "00202      int64\n",
       "0.1        int64\n",
       "+         object\n",
       "dtype: object"
      ]
     },
     "execution_count": 13,
     "metadata": {},
     "output_type": "execute_result"
    }
   ],
   "source": [
    "df.dtypes"
   ]
  },
  {
   "cell_type": "code",
   "execution_count": 14,
   "metadata": {},
   "outputs": [
    {
     "name": "stdout",
     "output_type": "stream",
     "text": [
      "Index(['b', 'u', 'g', 'w', 'v', 't', 't.1', 'f', 'g.1', '+'], dtype='object')\n"
     ]
    }
   ],
   "source": [
    "categorical_cols = df.loc[:, df.dtypes == 'object'].columns\n",
    "print(categorical_cols)"
   ]
  },
  {
   "cell_type": "markdown",
   "metadata": {},
   "source": [
    "We still have a few object types, which are candidates to become categorical columns\n",
    "\n",
    "Let's take a closer look at them to see their value ranges, etc."
   ]
  },
  {
   "cell_type": "code",
   "execution_count": 15,
   "metadata": {},
   "outputs": [
    {
     "name": "stdout",
     "output_type": "stream",
     "text": [
      "count     689\n",
      "unique      2\n",
      "top         b\n",
      "freq      479\n",
      "Name: b, dtype: object\n",
      "['a' 'b']\n",
      "b    479\n",
      "a    210\n",
      "Name: b, dtype: int64\n",
      "\n",
      "count     689\n",
      "unique      3\n",
      "top         u\n",
      "freq      524\n",
      "Name: u, dtype: object\n",
      "['u' 'y' 'l']\n",
      "u    524\n",
      "y    163\n",
      "l      2\n",
      "Name: u, dtype: int64\n",
      "\n",
      "count     689\n",
      "unique      3\n",
      "top         g\n",
      "freq      524\n",
      "Name: g, dtype: object\n",
      "['g' 'p' 'gg']\n",
      "g     524\n",
      "p     163\n",
      "gg      2\n",
      "Name: g, dtype: int64\n",
      "\n",
      "count     689\n",
      "unique     14\n",
      "top         c\n",
      "freq      146\n",
      "Name: w, dtype: object\n",
      "['q' 'w' 'm' 'r' 'cc' 'k' 'c' 'd' 'x' 'i' 'e' 'aa' 'ff' 'j']\n",
      "c     146\n",
      "q      78\n",
      "w      63\n",
      "i      59\n",
      "aa     54\n",
      "ff     53\n",
      "k      51\n",
      "cc     41\n",
      "x      38\n",
      "m      38\n",
      "d      30\n",
      "e      25\n",
      "j      10\n",
      "r       3\n",
      "Name: w, dtype: int64\n",
      "\n",
      "count     689\n",
      "unique      9\n",
      "top         v\n",
      "freq      407\n",
      "Name: v, dtype: object\n",
      "['h' 'v' 'bb' 'ff' 'j' 'z' 'o' 'dd' 'n']\n",
      "v     407\n",
      "h     138\n",
      "bb     59\n",
      "ff     57\n",
      "z       8\n",
      "j       8\n",
      "dd      6\n",
      "n       4\n",
      "o       2\n",
      "Name: v, dtype: int64\n",
      "\n",
      "count     689\n",
      "unique      2\n",
      "top         t\n",
      "freq      360\n",
      "Name: t, dtype: object\n",
      "['t' 'f']\n",
      "t    360\n",
      "f    329\n",
      "Name: t, dtype: int64\n",
      "\n",
      "count     689\n",
      "unique      2\n",
      "top         f\n",
      "freq      395\n",
      "Name: t.1, dtype: object\n",
      "['t' 'f']\n",
      "f    395\n",
      "t    294\n",
      "Name: t.1, dtype: int64\n",
      "\n",
      "count     689\n",
      "unique      2\n",
      "top         f\n",
      "freq      373\n",
      "Name: f, dtype: object\n",
      "['f' 't']\n",
      "f    373\n",
      "t    316\n",
      "Name: f, dtype: int64\n",
      "\n",
      "count     689\n",
      "unique      3\n",
      "top         g\n",
      "freq      624\n",
      "Name: g.1, dtype: object\n",
      "['g' 's' 'p']\n",
      "g    624\n",
      "s     57\n",
      "p      8\n",
      "Name: g.1, dtype: int64\n",
      "\n",
      "count     689\n",
      "unique      2\n",
      "top         -\n",
      "freq      383\n",
      "Name: +, dtype: object\n",
      "['+' '-']\n",
      "-    383\n",
      "+    306\n",
      "Name: +, dtype: int64\n",
      "\n"
     ]
    }
   ],
   "source": [
    "for col in categorical_cols:\n",
    "    print(df[col].describe())\n",
    "    print(df[col].unique())\n",
    "    print(df[col].value_counts())\n",
    "    print()"
   ]
  },
  {
   "cell_type": "markdown",
   "metadata": {},
   "source": [
    "Based on inspection we can make a correction for column 'g' by changing 'gg' into 'g' given the low frequency. Assumption: Incorrect data"
   ]
  },
  {
   "cell_type": "code",
   "execution_count": 16,
   "metadata": {
    "collapsed": true
   },
   "outputs": [],
   "source": [
    "df['g'] = df['g'].replace('gg', 'g')"
   ]
  },
  {
   "cell_type": "markdown",
   "metadata": {},
   "source": [
    "Convert the object columns to category types"
   ]
  },
  {
   "cell_type": "code",
   "execution_count": 17,
   "metadata": {},
   "outputs": [
    {
     "data": {
      "text/html": [
       "<div>\n",
       "<style>\n",
       "    .dataframe thead tr:only-child th {\n",
       "        text-align: right;\n",
       "    }\n",
       "\n",
       "    .dataframe thead th {\n",
       "        text-align: left;\n",
       "    }\n",
       "\n",
       "    .dataframe tbody tr th {\n",
       "        vertical-align: top;\n",
       "    }\n",
       "</style>\n",
       "<table border=\"1\" class=\"dataframe\">\n",
       "  <thead>\n",
       "    <tr style=\"text-align: right;\">\n",
       "      <th></th>\n",
       "      <th>b</th>\n",
       "      <th>30.83</th>\n",
       "      <th>0</th>\n",
       "      <th>u</th>\n",
       "      <th>g</th>\n",
       "      <th>w</th>\n",
       "      <th>v</th>\n",
       "      <th>1.25</th>\n",
       "      <th>t</th>\n",
       "      <th>t.1</th>\n",
       "      <th>01</th>\n",
       "      <th>f</th>\n",
       "      <th>g.1</th>\n",
       "      <th>00202</th>\n",
       "      <th>0.1</th>\n",
       "      <th>+</th>\n",
       "    </tr>\n",
       "  </thead>\n",
       "  <tbody>\n",
       "    <tr>\n",
       "      <th>0</th>\n",
       "      <td>0</td>\n",
       "      <td>58.67</td>\n",
       "      <td>4.460</td>\n",
       "      <td>1</td>\n",
       "      <td>0</td>\n",
       "      <td>10</td>\n",
       "      <td>3</td>\n",
       "      <td>3.04</td>\n",
       "      <td>1</td>\n",
       "      <td>1</td>\n",
       "      <td>6</td>\n",
       "      <td>0</td>\n",
       "      <td>0</td>\n",
       "      <td>43</td>\n",
       "      <td>560</td>\n",
       "      <td>0</td>\n",
       "    </tr>\n",
       "    <tr>\n",
       "      <th>1</th>\n",
       "      <td>0</td>\n",
       "      <td>24.50</td>\n",
       "      <td>0.500</td>\n",
       "      <td>1</td>\n",
       "      <td>0</td>\n",
       "      <td>10</td>\n",
       "      <td>3</td>\n",
       "      <td>1.50</td>\n",
       "      <td>1</td>\n",
       "      <td>0</td>\n",
       "      <td>0</td>\n",
       "      <td>0</td>\n",
       "      <td>0</td>\n",
       "      <td>280</td>\n",
       "      <td>824</td>\n",
       "      <td>0</td>\n",
       "    </tr>\n",
       "    <tr>\n",
       "      <th>2</th>\n",
       "      <td>1</td>\n",
       "      <td>27.83</td>\n",
       "      <td>1.540</td>\n",
       "      <td>1</td>\n",
       "      <td>0</td>\n",
       "      <td>12</td>\n",
       "      <td>7</td>\n",
       "      <td>3.75</td>\n",
       "      <td>1</td>\n",
       "      <td>1</td>\n",
       "      <td>5</td>\n",
       "      <td>1</td>\n",
       "      <td>0</td>\n",
       "      <td>100</td>\n",
       "      <td>3</td>\n",
       "      <td>0</td>\n",
       "    </tr>\n",
       "    <tr>\n",
       "      <th>3</th>\n",
       "      <td>1</td>\n",
       "      <td>20.17</td>\n",
       "      <td>5.625</td>\n",
       "      <td>1</td>\n",
       "      <td>0</td>\n",
       "      <td>12</td>\n",
       "      <td>7</td>\n",
       "      <td>1.71</td>\n",
       "      <td>1</td>\n",
       "      <td>0</td>\n",
       "      <td>0</td>\n",
       "      <td>0</td>\n",
       "      <td>2</td>\n",
       "      <td>120</td>\n",
       "      <td>0</td>\n",
       "      <td>0</td>\n",
       "    </tr>\n",
       "    <tr>\n",
       "      <th>4</th>\n",
       "      <td>1</td>\n",
       "      <td>32.08</td>\n",
       "      <td>4.000</td>\n",
       "      <td>1</td>\n",
       "      <td>0</td>\n",
       "      <td>9</td>\n",
       "      <td>7</td>\n",
       "      <td>2.50</td>\n",
       "      <td>1</td>\n",
       "      <td>0</td>\n",
       "      <td>0</td>\n",
       "      <td>1</td>\n",
       "      <td>0</td>\n",
       "      <td>360</td>\n",
       "      <td>0</td>\n",
       "      <td>0</td>\n",
       "    </tr>\n",
       "  </tbody>\n",
       "</table>\n",
       "</div>"
      ],
      "text/plain": [
       "   b  30.83      0  u  g   w  v  1.25  t  t.1  01  f  g.1  00202  0.1  +\n",
       "0  0  58.67  4.460  1  0  10  3  3.04  1    1   6  0    0     43  560  0\n",
       "1  0  24.50  0.500  1  0  10  3  1.50  1    0   0  0    0    280  824  0\n",
       "2  1  27.83  1.540  1  0  12  7  3.75  1    1   5  1    0    100    3  0\n",
       "3  1  20.17  5.625  1  0  12  7  1.71  1    0   0  0    2    120    0  0\n",
       "4  1  32.08  4.000  1  0   9  7  2.50  1    0   0  1    0    360    0  0"
      ]
     },
     "execution_count": 17,
     "metadata": {},
     "output_type": "execute_result"
    }
   ],
   "source": [
    "df_cpy = df.copy()\n",
    "categorical_names = {}\n",
    "for feature in categorical_cols:\n",
    "    #df_cpy[c] = df_cpy[c].astype('category')\n",
    "    #df_cpy[c] = df_cpy[c].cat.codes\n",
    "    \n",
    "    le = LabelEncoder()\n",
    "    le.fit(df_cpy[feature])\n",
    "    df_cpy[feature] = le.transform(df_cpy[feature])\n",
    "    categorical_names[feature] = le.classes_\n",
    "df_cpy.head()"
   ]
  },
  {
   "cell_type": "code",
   "execution_count": 18,
   "metadata": {
    "collapsed": true
   },
   "outputs": [],
   "source": [
    "labels = df_cpy.iloc[:,-1]\n",
    "df_cpy = df_cpy[df.columns[:-1]]"
   ]
  },
  {
   "cell_type": "code",
   "execution_count": 19,
   "metadata": {},
   "outputs": [
    {
     "data": {
      "text/html": [
       "<div>\n",
       "<style>\n",
       "    .dataframe thead tr:only-child th {\n",
       "        text-align: right;\n",
       "    }\n",
       "\n",
       "    .dataframe thead th {\n",
       "        text-align: left;\n",
       "    }\n",
       "\n",
       "    .dataframe tbody tr th {\n",
       "        vertical-align: top;\n",
       "    }\n",
       "</style>\n",
       "<table border=\"1\" class=\"dataframe\">\n",
       "  <thead>\n",
       "    <tr style=\"text-align: right;\">\n",
       "      <th></th>\n",
       "      <th>b</th>\n",
       "      <th>30.83</th>\n",
       "      <th>0</th>\n",
       "      <th>u</th>\n",
       "      <th>g</th>\n",
       "      <th>w</th>\n",
       "      <th>v</th>\n",
       "      <th>1.25</th>\n",
       "      <th>t</th>\n",
       "      <th>t.1</th>\n",
       "      <th>01</th>\n",
       "      <th>f</th>\n",
       "      <th>g.1</th>\n",
       "      <th>00202</th>\n",
       "      <th>0.1</th>\n",
       "    </tr>\n",
       "  </thead>\n",
       "  <tbody>\n",
       "    <tr>\n",
       "      <th>0</th>\n",
       "      <td>0</td>\n",
       "      <td>58.67</td>\n",
       "      <td>4.460</td>\n",
       "      <td>1</td>\n",
       "      <td>0</td>\n",
       "      <td>10</td>\n",
       "      <td>3</td>\n",
       "      <td>3.04</td>\n",
       "      <td>1</td>\n",
       "      <td>1</td>\n",
       "      <td>6</td>\n",
       "      <td>0</td>\n",
       "      <td>0</td>\n",
       "      <td>43</td>\n",
       "      <td>560</td>\n",
       "    </tr>\n",
       "    <tr>\n",
       "      <th>1</th>\n",
       "      <td>0</td>\n",
       "      <td>24.50</td>\n",
       "      <td>0.500</td>\n",
       "      <td>1</td>\n",
       "      <td>0</td>\n",
       "      <td>10</td>\n",
       "      <td>3</td>\n",
       "      <td>1.50</td>\n",
       "      <td>1</td>\n",
       "      <td>0</td>\n",
       "      <td>0</td>\n",
       "      <td>0</td>\n",
       "      <td>0</td>\n",
       "      <td>280</td>\n",
       "      <td>824</td>\n",
       "    </tr>\n",
       "    <tr>\n",
       "      <th>2</th>\n",
       "      <td>1</td>\n",
       "      <td>27.83</td>\n",
       "      <td>1.540</td>\n",
       "      <td>1</td>\n",
       "      <td>0</td>\n",
       "      <td>12</td>\n",
       "      <td>7</td>\n",
       "      <td>3.75</td>\n",
       "      <td>1</td>\n",
       "      <td>1</td>\n",
       "      <td>5</td>\n",
       "      <td>1</td>\n",
       "      <td>0</td>\n",
       "      <td>100</td>\n",
       "      <td>3</td>\n",
       "    </tr>\n",
       "    <tr>\n",
       "      <th>3</th>\n",
       "      <td>1</td>\n",
       "      <td>20.17</td>\n",
       "      <td>5.625</td>\n",
       "      <td>1</td>\n",
       "      <td>0</td>\n",
       "      <td>12</td>\n",
       "      <td>7</td>\n",
       "      <td>1.71</td>\n",
       "      <td>1</td>\n",
       "      <td>0</td>\n",
       "      <td>0</td>\n",
       "      <td>0</td>\n",
       "      <td>2</td>\n",
       "      <td>120</td>\n",
       "      <td>0</td>\n",
       "    </tr>\n",
       "    <tr>\n",
       "      <th>4</th>\n",
       "      <td>1</td>\n",
       "      <td>32.08</td>\n",
       "      <td>4.000</td>\n",
       "      <td>1</td>\n",
       "      <td>0</td>\n",
       "      <td>9</td>\n",
       "      <td>7</td>\n",
       "      <td>2.50</td>\n",
       "      <td>1</td>\n",
       "      <td>0</td>\n",
       "      <td>0</td>\n",
       "      <td>1</td>\n",
       "      <td>0</td>\n",
       "      <td>360</td>\n",
       "      <td>0</td>\n",
       "    </tr>\n",
       "  </tbody>\n",
       "</table>\n",
       "</div>"
      ],
      "text/plain": [
       "   b  30.83      0  u  g   w  v  1.25  t  t.1  01  f  g.1  00202  0.1\n",
       "0  0  58.67  4.460  1  0  10  3  3.04  1    1   6  0    0     43  560\n",
       "1  0  24.50  0.500  1  0  10  3  1.50  1    0   0  0    0    280  824\n",
       "2  1  27.83  1.540  1  0  12  7  3.75  1    1   5  1    0    100    3\n",
       "3  1  20.17  5.625  1  0  12  7  1.71  1    0   0  0    2    120    0\n",
       "4  1  32.08  4.000  1  0   9  7  2.50  1    0   0  1    0    360    0"
      ]
     },
     "execution_count": 19,
     "metadata": {},
     "output_type": "execute_result"
    }
   ],
   "source": [
    "df_cpy.head()"
   ]
  },
  {
   "cell_type": "code",
   "execution_count": 20,
   "metadata": {},
   "outputs": [
    {
     "data": {
      "text/plain": [
       "(689,)"
      ]
     },
     "execution_count": 20,
     "metadata": {},
     "output_type": "execute_result"
    }
   ],
   "source": [
    "labels.shape"
   ]
  },
  {
   "cell_type": "markdown",
   "metadata": {},
   "source": [
    "Let's split the data into training (80%) and test (20%) with shuffle"
   ]
  },
  {
   "cell_type": "code",
   "execution_count": 69,
   "metadata": {},
   "outputs": [
    {
     "data": {
      "text/plain": [
       "((551, 15), (138, 15), (551,), (138,))"
      ]
     },
     "execution_count": 69,
     "metadata": {},
     "output_type": "execute_result"
    }
   ],
   "source": [
    "train, test, labels_train, labels_test = train_test_split(df_cpy, labels, shuffle=True, test_size=0.20)\n",
    "train.shape, test.shape, labels_train.shape, labels_test.shape"
   ]
  },
  {
   "cell_type": "markdown",
   "metadata": {},
   "source": [
    "Let's scale the data now"
   ]
  },
  {
   "cell_type": "code",
   "execution_count": 81,
   "metadata": {},
   "outputs": [],
   "source": [
    "scaler = StandardScaler()\n",
    "scaler.fit(train)\n",
    "X_train = scaler.transform(train)\n",
    "\n",
    "scaler = StandardScaler()\n",
    "scaler.fit(test)\n",
    "X_test = scaler.transform(test)"
   ]
  },
  {
   "cell_type": "code",
   "execution_count": 82,
   "metadata": {},
   "outputs": [
    {
     "name": "stdout",
     "output_type": "stream",
     "text": [
      "13\n"
     ]
    }
   ],
   "source": [
    "pca = PCA(0.95)\n",
    "pca.fit(X_train)\n",
    "print (pca.n_components_)\n",
    "X_train = pca.transform(X_train)\n",
    "X_train = pd.DataFrame(X_train)\n",
    "\n",
    "X_test = pca.transform(X_test)\n",
    "X_test = pd.DataFrame(X_test)"
   ]
  },
  {
   "cell_type": "code",
   "execution_count": 83,
   "metadata": {},
   "outputs": [
    {
     "data": {
      "text/plain": [
       "((551, 13), (138, 13))"
      ]
     },
     "execution_count": 83,
     "metadata": {},
     "output_type": "execute_result"
    }
   ],
   "source": [
    "X_train.shape, X_test.shape"
   ]
  },
  {
   "cell_type": "markdown",
   "metadata": {},
   "source": [
    "QUESTION 2 - PART 1"
   ]
  },
  {
   "cell_type": "code",
   "execution_count": 84,
   "metadata": {},
   "outputs": [
    {
     "name": "stdout",
     "output_type": "stream",
     "text": [
      "RandomForestClassifier Accuracy 84.78\n",
      "\n",
      "             precision    recall  f1-score   support\n",
      "\n",
      "          0       0.83      0.84      0.83        63\n",
      "          1       0.86      0.85      0.86        75\n",
      "\n",
      "avg / total       0.85      0.85      0.85       138\n",
      "\n"
     ]
    }
   ],
   "source": [
    "random_forest = RandomForestClassifier(n_estimators=100)\n",
    "random_forest.fit(X_train, labels_train)\n",
    "labels_pred = random_forest.predict(X_test)\n",
    "acc_rf = round(accuracy_score(labels_test,labels_pred) * 100, 2)\n",
    "print(\"RandomForestClassifier Accuracy %.2f\" % (acc_rf))\n",
    "print()\n",
    "print(classification_report(labels_test, labels_pred))"
   ]
  },
  {
   "cell_type": "markdown",
   "metadata": {},
   "source": [
    "QUESTION 2 - PART 2"
   ]
  },
  {
   "cell_type": "code",
   "execution_count": 85,
   "metadata": {},
   "outputs": [
    {
     "name": "stdout",
     "output_type": "stream",
     "text": [
      "RandomizedSearchCV took 6.35 seconds for 20 candidates parameter settings.\n",
      "\n",
      "Model with rank: 1\n",
      "Mean validation score: 0.848 (std: 0.027)\n",
      "Parameters: {'bootstrap': True, 'criterion': 'entropy', 'max_depth': None, 'max_features': 3, 'min_samples_leaf': 9, 'min_samples_split': 10, 'n_estimators': 20}\n",
      "\n",
      "Model with rank: 2\n",
      "Mean validation score: 0.846 (std: 0.023)\n",
      "Parameters: {'bootstrap': True, 'criterion': 'entropy', 'max_depth': None, 'max_features': 5, 'min_samples_leaf': 9, 'min_samples_split': 10, 'n_estimators': 20}\n",
      "\n",
      "Model with rank: 2\n",
      "Mean validation score: 0.846 (std: 0.010)\n",
      "Parameters: {'bootstrap': True, 'criterion': 'gini', 'max_depth': None, 'max_features': 6, 'min_samples_leaf': 9, 'min_samples_split': 9, 'n_estimators': 100}\n",
      "\n",
      "\n",
      "Best score is 0.85\n"
     ]
    }
   ],
   "source": [
    "# Utility function to report best scores\n",
    "def report(results, n_top=3):\n",
    "    for i in range(1, n_top + 1):\n",
    "        candidates = np.flatnonzero(results['rank_test_score'] == i)\n",
    "        for candidate in candidates:\n",
    "            print(\"Model with rank: {0}\".format(i))\n",
    "            print(\"Mean validation score: {0:.3f} (std: {1:.3f})\".format(\n",
    "                  results['mean_test_score'][candidate],\n",
    "                  results['std_test_score'][candidate]))\n",
    "            print(\"Parameters: {0}\".format(results['params'][candidate]))\n",
    "            print(\"\")\n",
    "            \n",
    "param_dist = {\"n_estimators\": [20, 100],\n",
    "              \"max_depth\": [3, None],\n",
    "              \"max_features\": randint(1, pca.n_components_),\n",
    "              \"min_samples_split\": randint(9, 11),\n",
    "              \"min_samples_leaf\": randint(9, 11),\n",
    "              \"bootstrap\": [True],\n",
    "              \"criterion\": [\"gini\", \"entropy\"]}\n",
    "\n",
    "\n",
    "n_iter_search = 20\n",
    "rscv = RandomizedSearchCV(random_forest, param_distributions=param_dist, n_iter=n_iter_search)\n",
    "start = time()\n",
    "rscv.fit(X_train, labels_train)\n",
    "print(\"RandomizedSearchCV took %.2f seconds for %d candidates\"\n",
    "      \" parameter settings.\" % ((time() - start), n_iter_search))\n",
    "print()\n",
    "report(rscv.cv_results_)\n",
    "print()\n",
    "print(\"Best score is %.2f\" % (rscv.best_score_))\n",
    "acc_rscv = round(rscv.best_score_ * 100, 2) "
   ]
  },
  {
   "cell_type": "markdown",
   "metadata": {},
   "source": [
    "**QUESTION 3 - PART 1:**  \n",
    "\n",
    "Using the KNN Classifier provided by the sklearn library\n",
    "\n",
    "1. Initialize the classifier with default value for n_neighbors\n",
    "2. Train the classifier\n",
    "3. Determine the recall score of the classifier"
   ]
  },
  {
   "cell_type": "code",
   "execution_count": 86,
   "metadata": {},
   "outputs": [
    {
     "name": "stdout",
     "output_type": "stream",
     "text": [
      "KNeighborsClassifier Accuracy 86.96\n",
      "\n",
      "             precision    recall  f1-score   support\n",
      "\n",
      "          0       0.91      0.79      0.85        63\n",
      "          1       0.84      0.93      0.89        75\n",
      "\n",
      "avg / total       0.87      0.87      0.87       138\n",
      "\n"
     ]
    }
   ],
   "source": [
    "knn = KNeighborsClassifier(n_neighbors = 3)\n",
    "knn.fit(X_train, labels_train)\n",
    "labels_pred = knn.predict(X_test)\n",
    "acc_knn = round(accuracy_score(labels_test,labels_pred) * 100, 2) \n",
    "print(\"KNeighborsClassifier Accuracy %.2f\" % (acc_knn))\n",
    "print()\n",
    "print(classification_report(labels_test, labels_pred))"
   ]
  },
  {
   "cell_type": "markdown",
   "metadata": {},
   "source": [
    "**QUESTION 3 - PART 2:** \n",
    "\n",
    "1. Perform 10 fold cross validation to obtain the optimal value to use for n_neighbor\n",
    "2. Retrain the classifier \n",
    "2. Determine the recall score of the classifier \n"
   ]
  },
  {
   "cell_type": "code",
   "execution_count": 87,
   "metadata": {},
   "outputs": [
    {
     "name": "stdout",
     "output_type": "stream",
     "text": [
      "The optimal number of neighbors is 6 with 85.48%\n"
     ]
    },
    {
     "data": {
      "image/png": "[encoded data removed]",
      "text/plain": [
       "<matplotlib.figure.Figure at 0x1a1dfcd9e8>"
      ]
     },
     "metadata": {},
     "output_type": "display_data"
    },
    {
     "name": "stdout",
     "output_type": "stream",
     "text": [
      "KNeighborsClassifier Accuracy 87.68\n",
      "\n",
      "             precision    recall  f1-score   support\n",
      "\n",
      "          0       0.86      0.87      0.87        63\n",
      "          1       0.89      0.88      0.89        75\n",
      "\n",
      "avg / total       0.88      0.88      0.88       138\n",
      "\n"
     ]
    }
   ],
   "source": [
    "# creating odd list of K for KNN\n",
    "neighbors = list(filter(lambda x: True, list(range(1,50))))\n",
    "# empty list that will hold cv scores\n",
    "cv_scores = []\n",
    "\n",
    "# perform 10-fold cross validation\n",
    "seed = time()\n",
    "for k in neighbors:\n",
    "    knn = KNeighborsClassifier(n_neighbors=k, weights='uniform', p=2, metric='euclidean')\n",
    "    kfold = KFold(n_splits=10, random_state=seed)\n",
    "    scores = cross_val_score(knn, X_train, labels_train, cv=kfold, scoring='accuracy')\n",
    "    cv_scores.append(scores.mean() * 100)\n",
    "\n",
    "# determining best k\n",
    "optimized_k = neighbors[cv_scores.index(max(cv_scores))]\n",
    "print(\"The optimal number of neighbors is %d with %0.2f%%\" \n",
    "      % (optimized_k, cv_scores[optimized_k]))\n",
    "# plot misclassification error vs k\n",
    "plt.plot(neighbors, cv_scores)\n",
    "plt.xlabel('Number of Neighbors K')\n",
    "plt.ylabel('Training Accuracy')\n",
    "plt.show()\n",
    "\n",
    "\n",
    "knn = KNeighborsClassifier(n_neighbors=optimized_k)\n",
    "knn.fit(X_train, labels_train)\n",
    "\n",
    "# predict the response\n",
    "labels_pred = knn.predict(X_test)\n",
    "\n",
    "# evaluate accuracy\n",
    "acc_knncv = round(accuracy_score(labels_test,labels_pred) * 100, 2)\n",
    "print(\"KNeighborsClassifier Accuracy %.2f\" % (acc_knncv))\n",
    "print()\n",
    "print(classification_report(labels_test, labels_pred))"
   ]
  },
  {
   "cell_type": "code",
   "execution_count": 88,
   "metadata": {},
   "outputs": [
    {
     "data": {
      "text/html": [
       "<div>\n",
       "<style>\n",
       "    .dataframe thead tr:only-child th {\n",
       "        text-align: right;\n",
       "    }\n",
       "\n",
       "    .dataframe thead th {\n",
       "        text-align: left;\n",
       "    }\n",
       "\n",
       "    .dataframe tbody tr th {\n",
       "        vertical-align: top;\n",
       "    }\n",
       "</style>\n",
       "<table border=\"1\" class=\"dataframe\">\n",
       "  <thead>\n",
       "    <tr style=\"text-align: right;\">\n",
       "      <th></th>\n",
       "      <th>Model</th>\n",
       "      <th>Score</th>\n",
       "    </tr>\n",
       "  </thead>\n",
       "  <tbody>\n",
       "    <tr>\n",
       "      <th>3</th>\n",
       "      <td>KNN CV</td>\n",
       "      <td>87.68</td>\n",
       "    </tr>\n",
       "    <tr>\n",
       "      <th>2</th>\n",
       "      <td>KNN</td>\n",
       "      <td>86.96</td>\n",
       "    </tr>\n",
       "    <tr>\n",
       "      <th>0</th>\n",
       "      <td>Random Forest</td>\n",
       "      <td>84.78</td>\n",
       "    </tr>\n",
       "    <tr>\n",
       "      <th>1</th>\n",
       "      <td>Randomized Search CV</td>\n",
       "      <td>84.75</td>\n",
       "    </tr>\n",
       "  </tbody>\n",
       "</table>\n",
       "</div>"
      ],
      "text/plain": [
       "                  Model  Score\n",
       "3                KNN CV  87.68\n",
       "2                   KNN  86.96\n",
       "0         Random Forest  84.78\n",
       "1  Randomized Search CV  84.75"
      ]
     },
     "execution_count": 88,
     "metadata": {},
     "output_type": "execute_result"
    }
   ],
   "source": [
    "models = pd.DataFrame({\n",
    "    'Model': ['Random Forest', 'Randomized Search CV','KNN', 'KNN CV'],\n",
    "    'Score': [acc_rf, acc_rscv, acc_knn, acc_knncv ]})\n",
    "models.sort_values(by='Score', ascending=False)"
   ]
  },
  {
   "cell_type": "code",
   "execution_count": 62,
   "metadata": {},
   "outputs": [
    {
     "data": {
      "text/plain": [
       "<matplotlib.axes._subplots.AxesSubplot at 0x1a1d8a4fd0>"
      ]
     },
     "execution_count": 62,
     "metadata": {},
     "output_type": "execute_result"
    },
    {
     "data": {
      "image/png": "[encoded data removed]",
      "text/plain": [
       "<matplotlib.figure.Figure at 0x1a1cfbc4e0>"
      ]
     },
     "metadata": {},
     "output_type": "display_data"
    }
   ],
   "source": [
    "sns.barplot(x='Score', y='Model', data=models)"
   ]
  },
  {
   "cell_type": "code",
   "execution_count": null,
   "metadata": {
    "collapsed": true
   },
   "outputs": [],
   "source": []
  }
 ],
 "metadata": {
  "kernelspec": {
   "display_name": "Python 2",
   "language": "python",
   "name": "python2"
  },
  "language_info": {
   "codemirror_mode": {
    "name": "ipython",
    "version": 2
   },
   "file_extension": ".py",
   "mimetype": "text/x-python",
   "name": "python",
   "nbconvert_exporter": "python",
   "pygments_lexer": "ipython2",
   "version": "2.7.10"
  }
 },
 "nbformat": 4,
 "nbformat_minor": 2
}
